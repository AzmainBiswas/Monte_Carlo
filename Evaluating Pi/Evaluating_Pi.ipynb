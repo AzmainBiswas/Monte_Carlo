{
 "cells": [
  {
   "cell_type": "code",
   "execution_count": 1,
   "metadata": {},
   "outputs": [],
   "source": [
    "import numpy as np\n",
    "import csv"
   ]
  },
  {
   "cell_type": "markdown",
   "metadata": {},
   "source": [
    "### Monte Carlo algorithem"
   ]
  },
  {
   "cell_type": "code",
   "execution_count": 2,
   "metadata": {},
   "outputs": [],
   "source": [
    "def MonteCarlo(N):\n",
    "    Circ = 0\n",
    "    for _ in range(1, N):\n",
    "        X = np.random.uniform(-1, 1)\n",
    "        Y = np.random.uniform(-1, 1)\n",
    "        if X**2 + Y**2 <= 1:\n",
    "            Circ = Circ + 1\n",
    "\n",
    "    Area_of_circle = Circ / N\n",
    "    value_of_pi = Area_of_circle * 4\n",
    "\n",
    "    return value_of_pi"
   ]
  },
  {
   "cell_type": "code",
   "execution_count": 7,
   "metadata": {},
   "outputs": [],
   "source": [
    "with open(\"Estimation_of_Pi.csv\", \"w\", newline=\"\") as file:\n",
    "    csv_writer = csv.writer(file)\n",
    "    csv_writer.writerow([\"n\", \"Monte Carlo Estimate of PI\"])\n",
    "\n",
    "    for i in [50, 100, 1000, 10000, 100000, 1000000, 10000000]:\n",
    "        csv_writer.writerow([i, MonteCarlo(i)])\n",
    "    file.close"
   ]
  },
  {
   "cell_type": "code",
   "execution_count": 8,
   "metadata": {},
   "outputs": [
    {
     "name": "stdout",
     "output_type": "stream",
     "text": [
      "n  value of Pi\n",
      "50  3.6\n",
      "100  3.36\n",
      "1000  3.116\n",
      "10000  3.1532\n",
      "100000  3.1418\n",
      "1000000  3.1425\n",
      "10000000  3.1412004\n"
     ]
    }
   ],
   "source": [
    "print(f\"n  value of Pi\")\n",
    "for n in [50, 100, 1000, 10000, 100000, 1000000, 10000000]:\n",
    "    print(f\"{n}  {MonteCarlo(n)}\")"
   ]
  }
 ],
 "metadata": {
  "kernelspec": {
   "display_name": ".venv",
   "language": "python",
   "name": "python3"
  },
  "language_info": {
   "codemirror_mode": {
    "name": "ipython",
    "version": 3
   },
   "file_extension": ".py",
   "mimetype": "text/x-python",
   "name": "python",
   "nbconvert_exporter": "python",
   "pygments_lexer": "ipython3",
   "version": "3.11.2"
  }
 },
 "nbformat": 4,
 "nbformat_minor": 2
}
