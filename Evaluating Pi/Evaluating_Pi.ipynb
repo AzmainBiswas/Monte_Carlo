{
 "cells": [
  {
   "cell_type": "code",
   "execution_count": 1,
   "metadata": {
    "tags": []
   },
   "outputs": [],
   "source": [
    "import numpy as np\n",
    "import csv"
   ]
  },
  {
   "cell_type": "markdown",
   "metadata": {},
   "source": [
    "### Monte Carlo algorithem"
   ]
  },
  {
   "cell_type": "code",
   "execution_count": 2,
   "metadata": {
    "tags": []
   },
   "outputs": [],
   "source": [
    "def MonteCarlo(N):\n",
    "    Circ = 0\n",
    "    for _ in range(1, N):\n",
    "        U1 = np.random.uniform(0, 1)\n",
    "        U2 = np.random.uniform(0, 1)\n",
    "        if (2*U1-1)**2 + (2*U2-1)**2 <= 1:\n",
    "            Circ = Circ + 1\n",
    "\n",
    "    Area_of_circle = Circ / N\n",
    "    value_of_pi = Area_of_circle * 4\n",
    "\n",
    "    return value_of_pi"
   ]
  },
  {
   "cell_type": "code",
   "execution_count": 5,
   "metadata": {
    "tags": []
   },
   "outputs": [],
   "source": [
    "with open(\"Estimation_of_Pi.csv\", \"w\", newline=\"\") as file:\n",
    "    csv_writer = csv.writer(file)\n",
    "    csv_writer.writerow([\"n\", \"Monte Carlo Estimate of PI\"])\n",
    "\n",
    "    for i in [50, 100, 1000, 10000, 100000, 1000000, 10000000]:\n",
    "        csv_writer.writerow([i, MonteCarlo(i)])\n",
    "    file.close"
   ]
  },
  {
   "cell_type": "code",
   "execution_count": 5,
   "metadata": {},
   "outputs": [
    {
     "name": "stdout",
     "output_type": "stream",
     "text": [
      "Monte Carlo sample    Monte Carlo Estimate of Pi\n",
      "50    2.9600\n",
      "100    3.0800\n",
      "1000    3.1200\n",
      "10000    3.1428\n",
      "100000    3.1397\n",
      "1000000    3.1394\n",
      "10000000    3.1414\n"
     ]
    }
   ],
   "source": [
    "print(f'Monte Carlo sample    Monte Carlo Estimate of Pi')\n",
    "for n in [50, 100, 1000, 10000, 100000, 1000000, 10000000]:\n",
    "    print(f'{n}    {MonteCarlo(n):.4f}')"
   ]
  },
  {
   "cell_type": "code",
   "execution_count": null,
   "metadata": {},
   "outputs": [],
   "source": []
  }
 ],
 "metadata": {
  "kernelspec": {
   "display_name": "Python 3 (ipykernel)",
   "language": "python",
   "name": "python3"
  },
  "language_info": {
   "codemirror_mode": {
    "name": "ipython",
    "version": 3
   },
   "file_extension": ".py",
   "mimetype": "text/x-python",
   "name": "python",
   "nbconvert_exporter": "python",
   "pygments_lexer": "ipython3",
   "version": "3.11.2"
  }
 },
 "nbformat": 4,
 "nbformat_minor": 4
}
