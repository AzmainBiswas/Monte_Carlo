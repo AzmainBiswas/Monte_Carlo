{
 "cells": [
  {
   "cell_type": "markdown",
   "id": "57c3230e-449c-46d7-9f6a-a59d7887f6dc",
   "metadata": {},
   "source": [
    "Suppose $X\\sim Bin(m,p)$ for some fixed $m$ and $p$ has the prior density $c\\sin^{2}(\\pi p)$,\n",
    "where $c$ is a normalizing constant. throughout the example, $c$ denotes a generic constant,\n",
    "and is not intended to mean the same constant at every use.\n",
    "\n",
    "The posterior density of $p$ given $X = x$ is\n",
    "$$\n",
    "    \\pi(p|X=x) = cp^{x}(1-p)^{m-x}\\sin ^{2}(\\pi p), \\ \\ 0<p<1.  \n",
    "$$\n",
    "The problem is to find the posterior mean\n",
    "$$\n",
    "    \\mu = c \\int_{0}^{1} p\\left[cp^{x}(1-p)^{m-x}\\sin ^{2}(\\pi p)\\right]dp.\n",
    "$$\n",
    "\n",
    "We use importance sampling to approximate the value of $\\mu$. Towards this, choose\n",
    "$$\n",
    "    \\phi(p)=p, \\ h_0(p) = p^{x} (1-p)^{m-x} \\sin ^{2}(\\pi p),\\ h_1(p) = p^{x}(1-p)^{m-x},   \n",
    "$$\n",
    "\n",
    "Then\n",
    "$$\n",
    "        \\hat{\\mu} = \\frac{\\sum_{i=1}^{n}\\frac{\\phi(p_i)h_0(p_i)}{h_1(p_i)} }{\\sum_{i=1}^{n}\\frac{h_0(p_i)}{h_1(p_i)} }\n",
    "                  = \\frac{\\sum_{i=1}^{n}p_i\\sin ^{2}(\\pi p_i) }{\\sum_{i=1}^{n} \\sin ^{2}(\\pi p_i) }\n",
    "$$\n",
    "\n",
    "$p_1,p_2,\\ldots,p_n$ are samples from $F_1$, (i.e. $p_i\\sim Beta(x+1, m-x+1)$),\n",
    "\n",
    "We take $m=100$, $x=45$ for specificity."
   ]
  },
  {
   "cell_type": "code",
   "execution_count": 1,
   "id": "9177a6af-72c8-4164-aecd-06ed7ca78f18",
   "metadata": {},
   "outputs": [],
   "source": [
    "import numpy as np\n",
    "import matplotlib.pylab as plt\n",
    "import scipy.integrate as integrate"
   ]
  },
  {
   "cell_type": "code",
   "execution_count": 2,
   "metadata": {},
   "outputs": [],
   "source": [
    "# define values\n",
    "m = 100\n",
    "x = 45"
   ]
  },
  {
   "cell_type": "code",
   "execution_count": 3,
   "metadata": {},
   "outputs": [],
   "source": [
    "def estimation_of_mu(n, x=x, m=m):\n",
    "    p = np.random.beta(x + 1, m - x + 1, n)\n",
    "    sin2 = np.power(np.sin(p), 2)\n",
    "    p_sin2 = np.multiply(p, sin2)\n",
    "    numerator = np.sum(p_sin2)\n",
    "    denominator = np.sum(sin2)\n",
    "    mu_hat = np.divide(numerator, denominator)\n",
    "    return mu_hat"
   ]
  },
  {
   "cell_type": "code",
   "execution_count": 15,
   "metadata": {},
   "outputs": [
    {
     "name": "stdout",
     "output_type": "stream",
     "text": [
      "Sample Size  Importance Sampling Estimate of mu\n",
      "20  0.4817\n",
      "50  0.4448\n",
      "100  0.4601\n",
      "250  0.4658\n",
      "500  0.4586\n"
     ]
    }
   ],
   "source": [
    "sample_sizes = np.array([20, 50, 100, 250, 500])\n",
    "print(\"Sample Size  Importance Sampling Estimate of mu\")\n",
    "for n in sample_sizes:\n",
    "    print(f\"{n}  {estimation_of_mu(n):.4f}\")"
   ]
  }
 ],
 "metadata": {
  "kernelspec": {
   "display_name": "Python 3 (ipykernel)",
   "language": "python",
   "name": "python3"
  },
  "language_info": {
   "codemirror_mode": {
    "name": "ipython",
    "version": 3
   },
   "file_extension": ".py",
   "mimetype": "text/x-python",
   "name": "python",
   "nbconvert_exporter": "python",
   "pygments_lexer": "ipython3",
   "version": "3.11.2"
  }
 },
 "nbformat": 4,
 "nbformat_minor": 5
}
