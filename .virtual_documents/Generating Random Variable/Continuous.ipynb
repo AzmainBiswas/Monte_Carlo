import numpy as np
import matplotlib.pyplot as plt


SAMPLE_SIZE = 1_000_000











Lambda = 2


def Exp_dis(x, lam=Lambda):  # x +
    return lam * np.exp(-lam * x)





def CDF_Exp(x, lam):
    return 1 - np.exp(-lam * x)


x = np.linspace(0, 5, 10000)
plt.figure(figsize=(8, 3))
plt.plot(x, Exp_dis(x, Lambda), "red", label="$f(X)$")
plt.plot(x, CDF_Exp(x, Lambda), "green", label="$F(X)$")
plt.xlabel("$x$", fontsize=20)
plt.legend()
plt.grid()
plt.show()





def INV_CDF_Exp(y, lam):
    return -np.divide(np.log(y), lam)


uniform_random_variables = np.random.uniform(size=SAMPLE_SIZE)

exponential_random_variables = INV_CDF_Exp(uniform_random_variables, Lambda)


exponential_expectation = np.mean(exponential_random_variables)
exponential_expectation


plt.figure(figsize=(8, 4), dpi=150)
# plt.plot(x, Exp_dis(x, lam), color="red", label="$f(X)$")
plt.hist(
    exponential_random_variables,
    color="black",
    # histtype="step",
    linewidth=1,
    density="norm",
    edgecolor="white",
    bins=150,
    label=r"$Exp(2)$",
)
# plt.axvline(exponential_expectation, color="r", linewidth=2, label="sample mean")
plt.xlabel(
    f"Empirical Expectation Value: {exponential_expectation:.4f} \n Theoretical Expectation Value: {1/Lambda}",
    fontsize=15,
)
plt.ylabel("Frequency")
plt.xlim([0, 3.5])
plt.legend()
plt.show()








Lambda = 5
N = 10


def ExponentialToGamma(n, Lambda=Lambda):
    gamma_random_variables = np.zeros(shape=SAMPLE_SIZE, dtype=float)
    for _ in range(n):
        uniform_random_variables = np.random.uniform(size=SAMPLE_SIZE)
        exponential_random_variables = np.divide(- np.log(uniform_random_variables), Lambda) # convert uniform to exponential
        gamma_random_variables = np.add(gamma_random_variables, exponential_random_variables)
    return gamma_random_variables


gamma_random_variables = ExponentialToGamma(n=N, Lambda=Lambda)


gamma_expectation = np.mean(gamma_random_variables)
gamma_expectation


plt.figure(figsize=(8, 4), dpi=150)
plt.hist(
    gamma_random_variables,
    color='black',
    edgecolor="white",
    density="norm",
    linewidth=1,
    bins=100,
    label=r"$G(5,10)$",
)
# plt.axvline(gamma_expectation, color="r", linewidth=2, label="sample mean")
plt.xlabel(
    f"Empirical Expectation Value: {gamma_expectation:.4f} \n Theoretical Expectation Value: {N/Lambda}",
    fontsize=15,
)
plt.ylabel("Frequency")
plt.xlim([0, 5])
plt.legend()
plt.show()











standard_normal_random_variable = np.array([])

for _ in range(SAMPLE_SIZE):
    uniform1 = np.random.uniform()
    uniform2 = np.random.uniform()
    y1 = - np.log(uniform1)
    y2 = - np.log(uniform2)
    if y2 >= np.divide(np.power(y1 - 1 , 2),2):
        if np.random.uniform() <= 0.5:
            standard_normal_random_variable = np.append(standard_normal_random_variable, y1)
        else:
            standard_normal_random_variable = np.append(standard_normal_random_variable, - y1)


def inverse_exp_cdf(y):
    return -np.log(y)


std_normal_rvs = []

for _ in range(Number_Of_Simulation):
    u1 = np.random.uniform()
    u2 = np.random.uniform()
    y1 = inverse_exp_cdf(u1)
    y2 = inverse_exp_cdf(u2)
    if y2 >= ((y1 - 1) ** 2) / 2:
        if np.random.uniform() <= 1 / 2:
            std_normal_rvs.append(y1)
        else:
            std_normal_rvs.append(-y1)


plt.figure(figsize=(8, 4))
plt.hist(
    std_normal_rvs,
    linewidth=1,
    density=True,
    # color="white",
    edgecolor="black",
    bins=100,
    label=r"$N(0,1)$",
)
plt.axvline(
    statistics.mean(std_normal_rvs), color="r", linewidth=2, label="sample mean"
)
plt.xlabel(
    f"Empirical Expectation Value: {statistics.mean(std_normal_rvs):.4f}\n Theoretical Expectation Value: 0",
    fontsize=15,
)
plt.ylabel("Frequency")
plt.xlim([-4, 4])
plt.legend()
plt.show()





def Normal_polar(Number_Of_Simulation):  # main algorithem
    X = np.array([])
    Y = np.array([])
    for _ in range(Number_Of_Simulation):
        U1 = np.random.uniform()
        U2 = np.random.uniform()
        R_sqr = -2 * np.log(U1)  # exp(1/2)
        Theta = 2 * np.pi * U2  # U()
        X = np.append(X, np.sqrt(R_sqr) * np.cos(Theta))
        Y = np.append(Y, np.sqrt(R_sqr) * np.sin(Theta))
    return X, Y





X, Y = Normal_polar(Number_Of_Simulation)  # calling function


plt.figure(figsize=[13, 4])
plt.subplot(1, 2, 1)
plt.hist(
    X,
    linewidth=0.5,
    density=True,
    # color="white",
    edgecolor="black",
    bins=100,
    label=r"$N(0,1)$",
)
plt.axvline(statistics.mean(X), color="r", linewidth=2, label="sample mean")
plt.title("$X$", fontsize=15)
plt.xlabel(
    f"Empirical Expectation Value: {statistics.mean(X):4f}\n Theoretical Expectation Value: 0",
    fontsize=15,
)
plt.ylabel("Frequency")
plt.legend()
plt.subplot(1, 2, 2)
plt.hist(
    Y,
    linewidth=0.5,
    density=True,
    # color="white",
    edgecolor="black",
    bins=100,
    label=r"$N(0,1)$",
)
plt.axvline(statistics.mean(Y), color="r", linewidth=2, label="sample mean")
plt.title("$Y$", fontsize=15)
plt.xlabel(
    f"Empirical Expectation Value: {statistics.mean(Y):4f}\n Theoretical Expectation Value: 0",
    fontsize=15,
)
plt.ylabel("Frequency")
plt.legend()
plt.show()





def Beta_RV(alpha, beta, Number_Of_Simulation):
    Beta_RVs = []
    for _ in range(Number_Of_Simulation):
        u = np.random.uniform()
        x = np.random.uniform()
        if u <= (
            x ** (alpha - 1)
            * (1 - x) ** (beta - 1)
            * (alpha + beta - 2) ** (alpha + beta - 2)
        ) / ((alpha - 1) ** (alpha - 1) * (beta - 1) ** (beta - 1)):
            Beta_RVs.append(x)
    return Beta_RVs


alpha = 5
beta = 2
Beta_Rvs = Beta_RV(alpha, beta, Number_Of_Simulation)


plt.figure(figsize=(8, 4))
plt.hist(
    Beta_Rvs,
    linewidth=1,
    density=True,
    # color='white',
    edgecolor="black",
    bins=100,
    label=r"$B(5,2)$",
)
plt.axvline(statistics.mean(Beta_Rvs), color="r", linewidth=2, label="sample mean")
plt.xlabel(
    f"Empirical Expectation Value: {statistics.mean(Beta_Rvs):.4f}\n Theoretical Expectation Value: {alpha/(alpha+beta):.4f}",
    fontsize=15,
)
plt.ylabel("Frequency")
plt.legend()
plt.show()



