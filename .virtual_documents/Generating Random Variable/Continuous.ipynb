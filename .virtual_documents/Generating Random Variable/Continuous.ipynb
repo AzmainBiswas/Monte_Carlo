import matplotlib.pyplot as plt
import numpy as np


SAMPLE_SIZE = 1_000_000











Lambda = 2


def Exp_dis(x, lam=Lambda):
    return lam * np.exp(-lam * x)





def CDF_Exp(x, lam):
    return 1 - np.exp(-lam * x)


x = np.linspace(0, 5, 10000)
plt.figure(figsize=(8, 3))
plt.plot(x, Exp_dis(x, Lambda), "red", label="$f(X)$")
plt.plot(x, CDF_Exp(x, Lambda), "green", label="$F(X)$")
plt.xlabel("$x$", fontsize=20)
plt.legend()
plt.grid()
plt.show()





def INV_CDF_Exp(y, lam):
    return -np.divide(np.log(y), lam)


uniform_random_variables = np.random.uniform(size=SAMPLE_SIZE)

exponential_random_variables = INV_CDF_Exp(uniform_random_variables, Lambda)


exponential_expectation = np.mean(exponential_random_variables)
exponential_expectation


plt.figure(figsize=(8, 4), dpi=150)
# plt.plot(x, Exp_dis(x, lam), color="red", label="$f(X)$")
plt.hist(
    exponential_random_variables,
    color="black",
    # histtype="step",
    linewidth=1,
    density="norm",
    edgecolor="white",
    bins=150,
    label=r"$Exp(2)$",
)
# plt.axvline(exponential_expectation, color="r", linewidth=2, label="sample mean")
plt.xlabel(
    f"Empirical Expectation Value: {exponential_expectation:.4f} \n Theoretical Expectation Value: {1/Lambda}",
    fontsize=15,
)
plt.ylabel("Frequency")
plt.xlim([0, 3.5])
plt.legend()
plt.show()








Lambda = 5
N = 10


def ExponentialToGamma(n, Lambda=Lambda):
    gamma_random_variables = np.zeros(shape=SAMPLE_SIZE, dtype=float)
    for _ in range(n):
        uniform_random_variables = np.random.uniform(size=SAMPLE_SIZE)
        exponential_random_variables = np.divide(
            -np.log(uniform_random_variables), Lambda
        )  # convert uniform to exponential
        gamma_random_variables = np.add(
            gamma_random_variables, exponential_random_variables
        )
    return gamma_random_variables


gamma_random_variables = ExponentialToGamma(n=N, Lambda=Lambda)


gamma_expectation = np.mean(gamma_random_variables)
gamma_expectation


plt.figure(figsize=(8, 4), dpi=150)
plt.hist(
    gamma_random_variables,
    color="black",
    edgecolor="white",
    density="norm",
    linewidth=1,
    bins=100,
    label=r"$G(5,10)$",
)
# plt.axvline(gamma_expectation, color="r", linewidth=2, label="sample mean")
plt.xlabel(
    f"Empirical Expectation Value: {gamma_expectation:.4f} \n Theoretical Expectation Value: {N/Lambda}",
    fontsize=15,
)
plt.ylabel("Frequency")
plt.xlim([0, 5])
plt.legend()
plt.show()











number_of_accptance = 0

standard_normal_random_variables = []

for _ in range(SAMPLE_SIZE):
    uniform1 = np.random.uniform()
    uniform2 = np.random.uniform()
    y1 = -np.log(uniform1)
    y2 = -np.log(uniform2)
    if y2 >= ((y1 - 1) ** 2) / 2:
        number_of_accptance += 1
        if np.random.uniform() <= 0.5:
            standard_normal_random_variables.append(y1)
        else:
            standard_normal_random_variables.append(-y1)


standard_normal_expectation = np.mean(standard_normal_random_variables)
print(f"Mean: {standard_normal_expectation}")


accptance_rate = number_of_accptance / SAMPLE_SIZE
print(f"Accptance Rate: {accptance_rate}")


plt.figure(figsize=(8, 4), dpi=150)
plt.hist(
    standard_normal_random_variables,
    linewidth=1,
    density=True,
    color="black",
    edgecolor="white",
    bins=100,
    label=r"$N(0,1)$",
)
plt.xlabel(
    f"Empirical Expectation Value: {standard_normal_expectation:.4f}\n Theoretical Expectation Value: 0",
    fontsize=15,
)
plt.ylabel("Frequency")
plt.xlim([-4, 4])
plt.legend()
plt.show()





uniform1 = np.random.uniform(size=SAMPLE_SIZE)
uniform2 = np.random.uniform(size=SAMPLE_SIZE)

R_squre = np.multiply(2, -np.log(uniform1))  # exp(1/2)
Theta = np.multiply(2, np.multiply(np.pi, uniform2))  # u(0,2pi)

X = np.multiply(np.sqrt(R_squre), np.cos(Theta))
Y = np.multiply(np.sqrt(R_squre), np.sin(Theta))


X_mean = np.mean(X)
Y_mean = np.mean(Y)


plt.figure(figsize=(15, 5), dpi=150)
plt.subplot(1, 2, 1)
plt.hist(
    X,
    linewidth=0.5,
    density=True,
    color="black",
    edgecolor="white",
    bins=100,
    label=r"$N(0,1)$",
)
# plt.axvline(X_mean, color="r", linewidth=2, label="sample mean")
plt.title("$X$", fontsize=15)
plt.xlabel(
    f"Empirical Expectation Value: {X_mean:4f}\n Theoretical Expectation Value: 0",
    fontsize=15,
)
plt.ylabel("Frequency")
plt.legend()
plt.subplot(1, 2, 2)
plt.hist(
    Y,
    linewidth=0.5,
    density=True,
    color="black",
    edgecolor="white",
    bins=100,
    label=r"$N(0,1)$",
)
# plt.axvline(Y_mean, color="r", linewidth=2, label="sample mean")
plt.title("$Y$", fontsize=15)
plt.xlabel(
    f"Empirical Expectation Value: {Y_mean:4f}\n Theoretical Expectation Value: 0",
    fontsize=15,
)
plt.ylabel("Frequency")
plt.legend()
plt.show()





def Beta_RV(alpha, beta, Number_Of_Simulation):
    Beta_RVs = []
    number_of_accptance = 0
    for _ in range(Number_Of_Simulation):
        u = np.random.uniform()
        x = np.random.uniform()
        if u <= (
            x ** (alpha - 1)
            * (1 - x) ** (beta - 1)
            * (alpha + beta - 2) ** (alpha + beta - 2)
        ) / ((alpha - 1) ** (alpha - 1) * (beta - 1) ** (beta - 1)):
            number_of_accptance += 1
            Beta_RVs.append(x)
    return Beta_RVs, number_of_accptance


alpha = 5
beta = 2
beta_random_variables, number_of_accptance = Beta_RV(
    alpha, beta, Number_Of_Simulation=SAMPLE_SIZE
)


beta_expectation = np.mean(beta_random_variables)
print(f"Mean: {beta_expectation}")


accptance_rate = number_of_accptance / SAMPLE_SIZE
print(f"Accptance Rate: {accptance_rate}")


plt.figure(figsize=(8, 4), dpi=150)
plt.hist(
    beta_random_variables,
    linewidth=1,
    density=True,
    color="black",
    edgecolor="white",
    bins=100,
    label=r"$B(5,2)$",
)
# plt.axvline(beta_expectation, color="r", linewidth=2, label="sample mean")
plt.xlabel(
    f"Empirical Expectation Value: {beta_expectation:.4f}\n Theoretical Expectation Value: {alpha/(alpha+beta):.4f}",
    fontsize=15,
)
plt.ylabel("Frequency")
plt.legend()
plt.show()



