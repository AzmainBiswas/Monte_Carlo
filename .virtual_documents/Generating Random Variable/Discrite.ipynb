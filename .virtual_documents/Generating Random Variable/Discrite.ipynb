import numpy as np
import matplotlib.pyplot as plt








SampleSize = 10_000_000
Probability = 0.5





def UniformToBernoulli(uniform: float, probability: float = Probability) -> int:
    if uniform <= probability:
        return 1
    else:
        return 0

vUniformToBernoulli = np.vectorize(UniformToBernoulli)


uniform_random_variables = np.random.uniform(size=SampleSize)

bernoulli_random_variables = np.array(
    list(map(UniformToBernoulli, uniform_random_variables))
)

bernoulli_expectation = np.mean(bernoulli_random_variables)


plt.figure(figsize=(8, 4), dpi=150)
plt.hist(
    bernoulli_random_variables,
    color="black",
    edgecolor="black",
    density=True,
    label=r"$Ber(0.5)$",
)
plt.xlabel(
    f"Empirical Expectation Value: {bernoulli_expectation:.4f} \n Theoretical Expectation Value: {Probability}",
    fontsize=15,
)
plt.ylabel("Frequency")
plt.legend()
plt.show()








SampleSize = 10_000_000
P = 0.32
N = 10


def BernoulliToBinomial(number_of_trial: int, probability_of_success: float):
    binomial_random_variables = np.zeros(SampleSize, dtype=float)
    for n in range(number_of_trial):
        uniform_random_variables = np.random.uniform(size=SampleSize)
        bernoulli_random_variables = vUniformToBernoulli(uniform_random_variables, probability_of_success)
        binomial_random_variables += bernoulli_random_variables
    return binomial_random_variables


binomial_random_variable = BernoulliToBinomial(number_of_trial = N, probability_of_success= P)


binomial_expectation = np.mean(binomial_random_variable)

plt.figure(figsize=(8, 4), dpi=150)
plt.hist(
    binomial_random_variable,
    color = "black",
    edgecolor="white",
    density=True,
    linewidth=1.5,
    label=r"$Bin(10,0.32)$",
)
plt.xlabel(
    f"Empirical Expectation Value: {binomial_expectation:.4f} \n Theoretical Expectation Value: {N*P}",
    fontsize=15,
)
plt.ylabel("Frequency")
plt.legend()
plt.show()



