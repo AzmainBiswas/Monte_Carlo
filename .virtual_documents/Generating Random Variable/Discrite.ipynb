import matplotlib.pyplot as plt
import numpy as np
import seaborn as sns








SampleSize = 1_000_000
Probability = 0.5





def UniformToBernoulli(uniform: float, probability: float = Probability) -> int:
    if uniform <= probability:
        return 1
    else:
        return 0


vUniformToBernoulli = np.vectorize(UniformToBernoulli)


np.random.seed(1)

uniform_random_variables = np.random.uniform(size=SampleSize)

bernoulli_random_variables = vUniformToBernoulli(uniform_random_variables, Probability)


bernoulli_expectation = np.mean(bernoulli_random_variables)


plt.figure(figsize=(8, 4), dpi=150)
sns.histplot(
    bernoulli_random_variables,
    # color="black",
    stat="density",
    label=r"$Ber(0.5)$",
    bins=10,
)
plt.xlabel(
    f"Empirical Expectation Value: {bernoulli_expectation:.4f}\nTheoretical Expectation Value: {Probability}",
    fontsize=15,
)
plt.legend()
plt.show()








SampleSize = 1_000_000
P = 0.32
N = 10





def BernoulliToBinomial(number_of_trial: int, probability_of_success: float):
    binomial_random_variables = np.zeros(SampleSize, dtype=float)
    for n in range(number_of_trial):
        uniform_random_variables = np.random.uniform(size=SampleSize)
        bernoulli_random_variables = vUniformToBernoulli(
            uniform_random_variables, probability_of_success
        )
        binomial_random_variables = np.add(
            binomial_random_variables, bernoulli_random_variables
        )
    return binomial_random_variables


np.random.seed(2)

binomial_random_variable = BernoulliToBinomial(
    number_of_trial=N, probability_of_success=P
)


binomial_expectation = np.mean(binomial_random_variable)


plt.figure(figsize=(8, 4), dpi=150)
sns.histplot(
    binomial_random_variable,
    stat="density",
    # color="black",
    edgecolor="k",
    bins=10,
    label=r"$Bin(10,0.32)$",
)
plt.xlabel(
    f"Empirical Expectation Value: {binomial_expectation:.4f} \n Theoretical Expectation Value: {N*P}",
    fontsize=15,
)
plt.ylabel("Frequency")
plt.legend()
plt.show()



