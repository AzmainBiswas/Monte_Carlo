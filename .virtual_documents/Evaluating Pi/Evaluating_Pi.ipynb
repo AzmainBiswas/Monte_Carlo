import csv

import numpy as np





def MonteCarlo(N):
    Circ = 0
    for _ in range(1, N):
        U1 = np.random.uniform(0, 1)
        U2 = np.random.uniform(0, 1)
        if (2 * U1 - 1) ** 2 + (2 * U2 - 1) ** 2 <= 1:
            Circ = Circ + 1

    Area_of_circle = Circ / N
    value_of_pi = Area_of_circle * 4

    return value_of_pi


with open("Estimation_of_Pi.csv", "w", newline="") as file:
    csv_writer = csv.writer(file)
    csv_writer.writerow(["n", "Monte Carlo Estimate of PI"])

    for i in [50, 100, 1000, 10000, 100000, 1000000, 10000000]:
        csv_writer.writerow([i, MonteCarlo(i)])
    file.close


print(f"Monte Carlo sample  |  Monte Carlo Estimate of Pi")
for n in [50, 100, 1000, 10000, 100000, 1000000, 10000000]:
    print(f"{n}   |   {MonteCarlo(n):.4f}")



