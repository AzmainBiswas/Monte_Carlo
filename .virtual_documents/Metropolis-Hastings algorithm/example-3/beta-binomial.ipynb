


import numpy as np
from matplotlib import pyplot as plt
from scipy.special import gamma
from scipy.special import comb
import seaborn as sns


FIGSIZE = (9, 6)
SAMPLESIZE = 100_000


N = 10
ALPHA = 7
BETA = 2

t_mean = (N * ALPHA) / (ALPHA + BETA)
t_variance = ((N * ALPHA * BETA) / (ALPHA + BETA) ** 2) * (
    (ALPHA + BETA + N) / (ALPHA + BETA + 1)
)
print(f"Theoritical\nMean: {t_mean}\nVariance: {t_variance}")


# pmf of Beta-Binomial Distribution without constant we call it target
def target(x, n=N, alpha=ALPHA, beta=BETA):
    return comb(n, x) * gamma(x + alpha) * gamma(n - x + beta)


# transition
def transition(current):
    return np.random.normal(current, 5)


def transition_poison(current):
    return np.random.poisson(current)


# define accept
def acceptance(candidate, current) -> bool:
    return np.random.uniform(0, 1) < np.minimum(1, np.divide(candidate, current))


# define metropolic hesting algorithm
def MetropolisHestings(pdf, init_state, transition, acceptance, sample_size=SAMPLESIZE):
    current_state = init_state
    samples = []
    for _ in range(sample_size):
        candidate_state = transition(current_state)
        accept = acceptance(
            pdf(candidate_state) * transition(candidate_state),
            pdf(current_state) * transition(current_state),
        )
        if accept:
            current_state = candidate_state
        samples.append(current_state)
    return np.array(samples)


np.random.seed(0)

init_state = 7
sample = np.round(MetropolisHestings(target, init_state, transition, acceptance))
# sample = MetropolisHestings(target, init_state, transition_poison, acceptance)

print(f"Experemental\nSample Mean: {np.mean(sample)}\nVariance: {np.var(sample)}")


# ploting

plt.figure(figsize=FIGSIZE)
sns.histplot(sample, color="k", stat="density", bins=21)
plt.ylabel("Frequency", fontsize=12)
plt.xlabel(
    f"Theoretical: Mean = {t_mean:.4f}, Variance = {t_variance:.4f}\nEmpirical: Mean = {np.mean(sample):.4f}, Variance = {np.var(sample):.4f}",
    fontsize=13,
)
