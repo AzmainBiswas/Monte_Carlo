





import matplotlib.pyplot as plt
import numpy as np
import seaborn as sns
from scipy import integrate, stats

FIGSIZE = (9, 6)
SAMPLESIZE = 100000
BURN_IN = int(SAMPLESIZE * 0.25)


def target(x: np.ndarray) -> np.ndarray:
    return np.exp(-(x**2)) * (2 + np.sin(5 * x) + np.sin(2 * x))


x = np.linspace(-3, 3, 10000)
dnominator = integrate.quad(target, -np.inf, np.inf)
y = target(x) / dnominator[0]

plt.figure(figsize=FIGSIZE)
plt.plot(x, y, color="k", label=r"$p(x)$")
plt.xlabel(r"$x$")
plt.ylabel(r"$p(x)$")
plt.legend()
# plt.grid()
# plt.savefig("target_plot.png")
plt.show()


def MetropolisSample(pdf, init_state, step_size, sample_size=SAMPLESIZE):
    current_state = init_state
    samples = []
    for _ in range(sample_size):
        candidate_state = np.random.normal(
            loc=current_state, scale=step_size
        )  # jumping probabitlity
        accept_prob = np.minimum(
            1.0, pdf(candidate_state) / pdf(current_state)
        )  # acceptance probability
        if np.random.uniform() < accept_prob:
            current_state = candidate_state
        samples.append(current_state)
    return np.array(samples)





# Geweke Test
def GewekeTest(sample, fast=0.1, last=0.5):
    X1 = sample[: int(len(sample) * fast)]
    X2 = sample[int(len(sample) * last) :]
    z = (np.mean(X1) - np.mean(X2)) / (np.sqrt(np.var(X1) + np.var(X2)))
    return z


# running mean
def RunningMeans(sample):
    cumulative_sum = np.cumsum(sample)
    indices = np.arange(1, len(cumulative_sum) + 1)
    running_means = cumulative_sum / indices
    return running_means





np.random.seed(1)
samples = MetropolisSample(pdf=target, init_state=0, step_size=2)
print(f"Mean: {np.mean(samples):0.4f}\nVariance: {np.var(samples):.4f}")


plt.figure(figsize=(25, 6))
sns.lineplot(x=range(SAMPLESIZE), y=samples, color="k", linewidth=0.5, label="values")
sns.lineplot(
    x=range(SAMPLESIZE),
    y=RunningMeans(samples),
    color="r",
    label="running means",
)
plt.ylabel("Accepted Value", fontsize=12)
plt.xlabel("Number of Iteration", fontsize=12)
# plt.savefig("accepted_value_of_sample1.png")


# reboving burn-in
print(f"Mean: {samples[BURN_IN:].mean():0.4f}")
print(f"Variance: {samples[BURN_IN:].var():0.4f}")


plt.figure(figsize=FIGSIZE)
sns.histplot(
    samples[BURN_IN:],
    stat="density",
    linewidth=1,
    color="black",
    edgecolor="white",
    # kde=True,
    bins=90,
    label="simulated values",
)
plt.ylabel("Frequency", fontsize=12)
plt.legend()
# plt.savefig("sample1_hist.png")


print(f"{GewekeTest(samples[BURN_IN:]):0.4f}")


# cumelative avarage
running_means = RunningMeans(samples[BURN_IN:])


# Create subplots with specified width ratios
fig, axs = plt.subplots(1, 2, figsize=(20, 7), gridspec_kw={"width_ratios": [7, 3]})
plt.subplots_adjust(right=0.8, wspace=0.05)

# First subplot: line plot
axs[0].grid()
sns.lineplot(
    ax=axs[0],
    x=range(SAMPLESIZE - BURN_IN),
    color="k",
    linewidth=0.5,
    y=samples[BURN_IN:],
    label="accepted values",
)
sns.lineplot(
    ax=axs[0],
    x=range(len(running_means)),
    y=running_means,
    color="red",
    label="running means",
)
axs[0].set_xlabel("Number of Iteration", fontsize=12)
# axs[0].set_ylabel("Accepted Value", fontsize=12)

# Second subplot: histogram plot
sns.histplot(
    ax=axs[1],
    y=samples[BURN_IN:],
    stat="density",
    color="black",
    edgecolor="white",
    # kde=True,
    linewidth=1,
    bins=70,
    label="simulated values",
)
plt.plot(y, x, color="r", label=r"$p(x)$")
axs[1].set_xlabel("Frequency", fontsize=12)

plt.legend()
# Show the plot
plt.show()





np.random.seed(2)
samples2 = MetropolisSample(pdf=target, init_state=-1, step_size=2)
print(f"Mean: {np.mean(samples2):.4f}\nVariance: {np.var(samples2):.4f}")


plt.figure(figsize=(25, 6))
sns.lineplot(x=range(SAMPLESIZE), y=samples2, color="k", linewidth=0.5, label="values")
sns.lineplot(
    x=range(SAMPLESIZE),
    y=RunningMeans(samples2),
    color="r",
    label="running means",
)
plt.ylabel("Accepted Value", fontsize=12)
plt.xlabel("Number of Iteration", fontsize=12)


# reboving burn-in
print(f"Mean: {samples2[BURN_IN:].mean():.5f}")
print(f"Variance: {samples2[BURN_IN:].var():.5f}")


plt.figure(figsize=FIGSIZE)
sns.histplot(
    samples2[BURN_IN:],
    stat="density",
    # kde=True,
    color="black",
    edgecolor="white",
    linewidth=1,
    bins=90,
)
plt.ylabel("Frequency")


print(f"{GewekeTest(samples2[BURN_IN:]):0.4f}")


running_means2 = RunningMeans(samples2[BURN_IN:])


# Create subplots with specified width ratios
fig, axs = plt.subplots(1, 2, figsize=(20, 7), gridspec_kw={"width_ratios": [7, 3]})
plt.subplots_adjust(right=0.8, wspace=0.05)

# First subplot: line plot
axs[0].grid()
sns.lineplot(
    ax=axs[0],
    x=range(SAMPLESIZE - BURN_IN),
    color="k",
    linewidth=0.5,
    y=samples2[BURN_IN:],
    label="accepted values",
)
sns.lineplot(
    ax=axs[0],
    x=range(len(running_means2)),
    y=running_means2,
    color="red",
    label="running means",
)
axs[0].set_xlabel("Number of Iteration", fontsize=12)
# axs[0].set_ylabel("Accepted Value", fontsize=12)

# Second subplot: histogram plot
sns.histplot(
    ax=axs[1],
    y=samples2[BURN_IN:],
    stat="density",
    color="black",
    edgecolor="white",
    # kde=True,
    linewidth=1,
    bins=70,
    label="simulated values",
)
plt.plot(y, x, color="r", label=r"$p(x)$")
axs[1].set_xlabel("Frequency", fontsize=12)

plt.legend()
# Show the plot
plt.show()





samples3 = MetropolisSample(target, init_state=-4, step_size=1)
print(f"Mean: {np.mean(samples3):.4f}\nVariance: {np.var(samples3):.4f}")


plt.figure(figsize=(25, 6))
sns.lineplot(x=range(SAMPLESIZE), y=samples3, color="k", linewidth=0.5, label="values")
sns.lineplot(
    x=range(SAMPLESIZE),
    y=RunningMeans(samples3),
    color="r",
    label="running means",
)
plt.xlabel("Number of Iteration", fontsize=12)
plt.ylabel("Accepted Value", fontsize=12)


# reboving burn-in
print(f"Mean: {samples3[BURN_IN:].mean():.4f}")
print(f"Variance: {samples3[BURN_IN:].var():.4f}")


print(f"{GewekeTest(samples3[BURN_IN:]):.4f}")


plt.figure(figsize=FIGSIZE)
sns.histplot(
    samples3[BURN_IN:],
    stat="density",
    # kde=True,
    color="black",
    edgecolor="white",
    linewidth=1,
    bins=90,
)
plt.ylabel("Frequency")


running_means3 = RunningMeans(samples3[BURN_IN:])


# Create subplots with specified width ratios
fig, axs = plt.subplots(1, 2, figsize=(20, 7), gridspec_kw={"width_ratios": [7, 3]})
plt.subplots_adjust(right=0.8, wspace=0.05)

# First subplot: line plot
axs[0].grid()
sns.lineplot(
    ax=axs[0],
    x=range(SAMPLESIZE - BURN_IN),
    color="k",
    linewidth=0.5,
    y=samples3[BURN_IN:],
    label="accepted values",
)
sns.lineplot(
    ax=axs[0],
    x=range(len(running_means3)),
    y=running_means3,
    color="red",
    label="running means",
)
axs[0].set_xlabel("Number of Iteration", fontsize=12)
# axs[0].set_ylabel("Accepted Value", fontsize=12)

# Second subplot: histogram plot
sns.histplot(
    ax=axs[1],
    y=samples3[BURN_IN:],
    stat="density",
    color="black",
    edgecolor="white",
    # kde=True,
    linewidth=1,
    bins=70,
    label="simulated values",
)
plt.plot(y, x, color="r", label=r"$p(x)$")
axs[1].set_xlabel("Frequency", fontsize=12)

plt.legend()
# Show the plot
plt.show()





samples4 = MetropolisSample(target, init_state=10, step_size=2)
print(f"Mean: {np.mean(samples4):0.5f}\nVariance: {np.var(samples4):0.4f}")


plt.figure(figsize=(17, 6))
sns.lineplot(x=range(SAMPLESIZE), y=samples4, color="k", linewidth=0.5, label="values")
sns.lineplot(
    x=range(SAMPLESIZE),
    y=RunningMeans(samples4),
    color="r",
    label="running means",
)
plt.xlabel("Number of Iteration", fontsize=12)
plt.ylabel("Accepted Value", fontsize=12)


# reboving burn-in
print(f"Mean: {samples3[BURN_IN:].mean():0.4f}")
print(f"Variance: {samples3[BURN_IN:].var():.4f}")


plt.figure(figsize=(17, 6))
sns.lineplot(
    x=range(SAMPLESIZE - BURN_IN), y=samples4[BURN_IN:], color="k", linewidth=0.5
)
plt.ylabel("Accepted Value", fontsize=12)
plt.xlabel("Number of Iteration", fontsize=12)


GewekeTest(samples4[BURN_IN:])


plt.figure(figsize=FIGSIZE)
sns.histplot(
    samples4[BURN_IN:],
    stat="density",
    # kde=True,
    color="black",
    edgecolor="white",
    linewidth=1,
    bins=90,
)
plt.ylabel("Frequency")


running_means4 = RunningMeans(samples4[BURN_IN:])


# Create subplots with specified width ratios
fig, axs = plt.subplots(1, 2, figsize=(20, 7), gridspec_kw={"width_ratios": [7, 3]})
plt.subplots_adjust(right=0.8, wspace=0.05)

# First subplot: line plot
axs[0].grid()
sns.lineplot(
    ax=axs[0],
    x=range(SAMPLESIZE - BURN_IN),
    color="k",
    linewidth=0.5,
    y=samples4[BURN_IN:],
    label="accepted values",
)
sns.lineplot(
    ax=axs[0],
    x=range(len(running_means4)),
    y=running_means4,
    color="red",
    label="running means",
)
axs[0].set_xlabel("Number of Iteration", fontsize=12)
# axs[0].set_ylabel("Accepted Value", fontsize=12)

# Second subplot: histogram plot
sns.histplot(
    ax=axs[1],
    y=samples4[BURN_IN:],
    stat="density",
    color="black",
    edgecolor="white",
    # kde=True,
    linewidth=1,
    bins=70,
    label="simulated values",
)
plt.plot(y, x, color="r", label=r"$p(x)$")
axs[1].set_xlabel("Frequency", fontsize=12)

plt.legend()
# Show the plot
plt.show()





samples5 = MetropolisSample(target, init_state=10, step_size=0.025)
print(f"Mean: {np.mean(samples5):.4f}\nVariance: {np.var(samples5):.4f}")


GewekeTest(samples5)


plt.figure(figsize=(25, 6))
sns.lineplot(x=range(SAMPLESIZE), y=samples5, color="k", linewidth=0.5, label="values")
sns.lineplot(
    x=range(SAMPLESIZE),
    y=RunningMeans(samples5),
    color="r",
    label="running means",
)
plt.xlabel("Number of Iteration", fontsize=12)
plt.ylabel("Accepted Value", fontsize=12)


# reboving burn-in
print(f"Mean: {samples5[BURN_IN:].mean():.4f}")
print(f"Variance: {samples5[BURN_IN:].var():.4f}")


GewekeTest(samples5[BURN_IN:])


plt.figure(figsize=FIGSIZE)
sns.histplot(
    samples5[BURN_IN:],
    stat="density",
    # kde=True,
    color="black",
    edgecolor="white",
    linewidth=1,
    bins=90,
)
plt.ylabel("Frequency")


running_means5 = RunningMeans(samples5[BURN_IN:])


# Create subplots with specified width ratios
fig, axs = plt.subplots(1, 2, figsize=(20, 7), gridspec_kw={"width_ratios": [7, 3]})
plt.subplots_adjust(right=0.8, wspace=0.05)

# First subplot: line plot
axs[0].grid()
sns.lineplot(
    ax=axs[0],
    x=range(SAMPLESIZE - (BURN_IN)),
    color="k",
    linewidth=0.5,
    y=samples5[BURN_IN:],
    label="accepted values",
)
sns.lineplot(
    ax=axs[0],
    x=range(len(running_means5)),
    y=running_means5,
    color="red",
    label="running means",
)
axs[0].set_xlabel("Number of Iteration", fontsize=12)
# axs[0].set_ylabel("Accepted Value", fontsize=12)

# Second subplot: histogram plot
sns.histplot(
    ax=axs[1],
    y=samples5[BURN_IN:],
    stat="density",
    color="black",
    edgecolor="white",
    linewidth=0.5,
    # kde=True,
    bins=70,
    label="simulated values",
)
plt.plot(y, x, color="r", label=r"$p(x)$")
axs[1].set_xlabel("Frequency", fontsize=12)

plt.legend()
# Show the plot
plt.show()





samples6 = MetropolisSample(target, init_state=15, step_size=20)
print(f"Mean: {np.mean(samples6):.5f}\nVariance: {np.var(samples6):.5f}")


plt.figure(figsize=(25, 6))
sns.lineplot(x=range(SAMPLESIZE), y=samples6, color="k", linewidth=1, label="values")
sns.lineplot(
    x=range(SAMPLESIZE),
    y=RunningMeans(samples),
    color="r",
    label="running means",
)
plt.xlabel("Number of Iteration", fontsize=12)
plt.ylabel("Accepted Value", fontsize=12)


# reboving burn-in
print(f"Mean: {samples6[BURN_IN:].mean()}")
print(f"Variance: {samples6[BURN_IN:].var()}")


GewekeTest(samples6[BURN_IN:])


plt.figure(figsize=FIGSIZE)
sns.histplot(
    samples6[BURN_IN:],
    stat="density",
    # kde=True,
    color="black",
    edgecolor="white",
    linewidth=1,
    bins=90,
)
plt.ylabel("Frequency")


running_means6 = RunningMeans(samples6[BURN_IN:])


# Create subplots with specified width ratios
fig, axs = plt.subplots(1, 2, figsize=(20, 7), gridspec_kw={"width_ratios": [7, 3]})
plt.subplots_adjust(right=0.8, wspace=0.05)

# First subplot: line plot
axs[0].grid()
sns.lineplot(
    ax=axs[0],
    x=range(SAMPLESIZE - BURN_IN),
    color="k",
    linewidth=0.5,
    y=samples6[BURN_IN:],
    label="accepted values",
)
sns.lineplot(
    ax=axs[0],
    x=range(len(running_means6)),
    y=running_means6,
    color="red",
    label="running means",
)
axs[0].set_xlabel("Number of Iteration", fontsize=12)
# axs[0].set_ylabel("Accepted Value", fontsize=12)

# Second subplot: histogram plot
sns.histplot(
    ax=axs[1],
    y=samples6[BURN_IN:],
    stat="density",
    color="black",
    # kde=True,
    edgecolor="white",
    linewidth=1,
    bins=70,
    label="simulated values",
)
plt.plot(y, x, color="r", label=r"$p(x)$")
axs[1].set_xlabel("Frequency", fontsize=12)

plt.legend()
# Show the plot
plt.show()



