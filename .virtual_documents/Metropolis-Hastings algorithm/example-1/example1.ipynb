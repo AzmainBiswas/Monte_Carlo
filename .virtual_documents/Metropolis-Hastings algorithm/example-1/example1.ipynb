


import matplotlib.pyplot as plt
import numpy as np
import seaborn as sns
from scipy import stats

get_ipython().run_line_magic("matplotlib", " inline")

FIGSIZE = (9, 6)
SAMPLESIZE = 100_000


def target(x: np.ndarray) -> np.ndarray:
    return np.exp(-(x**2)) * (2 + np.sin(5 * x) + np.sin(2 * x))


x = np.linspace(-3, 3, SAMPLESIZE)
y = target(x)

plt.figure(figsize=FIGSIZE)
plt.plot(x, y, color="k", label=r"$p(x)$")
plt.xlabel(r"$x$")
plt.ylabel(r"$p(x)$")
# plt.legend()
plt.savefig("target_plot.png")
plt.show()


def MetropolisSample(pdf, init_state, step_size, sample_size=SAMPLESIZE):
    current_state = init_state
    samples = []
    for _ in range(sample_size):
        candidate_state = np.random.normal(loc=current_state, scale=step_size)
        accept_prob = np.minimum(1.0, pdf(candidate_state) / pdf(current_state))
        if np.random.uniform() < accept_prob:
            current_state = candidate_state
        samples.append(current_state)
    return np.array(samples)





np.random.seed(1)
samples = MetropolisSample(pdf=target, init_state=0, step_size=1)
print(f"Mean: {np.mean(samples)}\nVariance: {np.var(samples)}")

plt.figure(figsize=FIGSIZE)
sns.histplot(
    samples,
    stat="density",
    linewidth=1,
    color="black",
    edgecolor="white",
    kde=True,
    bins=90,
)
plt.ylabel("Frequency", fontsize=12)
plt.savefig("sample1_hist.png")


plt.figure(figsize=(25, 6))
sns.lineplot(x=range(SAMPLESIZE), y=samples, color="black", linewidth=0.5)
plt.ylabel("Accepted Value", fontsize=12)
plt.savefig("accepted_value_of_sample1.png")





np.random.seed(2)
samples2 = MetropolisSample(pdf=target, init_state=-1, step_size=1)
print(f"Mean: {np.mean(samples2)}\nVariance: {np.var(samples2)}")

plt.figure(figsize=FIGSIZE)
sns.histplot(
    samples2,
    stat="density",
    kde=True,
    color="black",
    edgecolor="white",
    linewidth=1,
    bins=90,
)
plt.ylabel("Frequency")


plt.figure(figsize=(25, 6))
sns.lineplot(x=range(SAMPLESIZE), y=samples2, color="black", linewidth=0.5)
plt.ylabel("Accepted Value", fontsize=12)





np.random.seed(3)
samples3 = MetropolisSample(pdf=target, init_state=1.5, step_size=1)
print(f"Mean: {np.mean(samples3)}\nVariance: {np.var(samples3)}")

plt.figure(figsize=FIGSIZE)
sns.histplot(
    samples3,
    stat="density",
    kde=True,
    bins=90,
    color="black",
    edgecolor="white",
    linewidth=1,
)
plt.ylabel("Frequency")


plt.figure(figsize=(25, 6))
sns.lineplot(x=range(SAMPLESIZE), y=samples3, color="black", linewidth=0.5)
plt.ylabel("Accepted Value", fontsize=12)





np.random.seed(4)
samples4 = MetropolisSample(pdf=target, init_state=0, step_size=0.05)
print(f"Mean: {np.mean(samples4)}\nVariance: {np.var(samples4)}")

plt.figure(figsize=FIGSIZE)
sns.histplot(
    samples4,
    stat="density",
    kde=True,
    color="black",
    bins=90,
    edgecolor="white",
    linewidth=1,
)
plt.ylabel("Frequency")


plt.figure(figsize=(25, 6))
sns.lineplot(x=range(SAMPLESIZE), y=samples4, color="black")
plt.ylabel("Accepted Value", fontsize=12)





np.random.seed(5)
samples5 = MetropolisSample(pdf=target, init_state=-3, step_size=0.01)
print(f"Mean: {np.mean(samples5)}\nVariance: {np.var(samples5)}")

plt.figure(figsize=FIGSIZE)
sns.histplot(
    samples5,
    stat="density",
    kde=True,
    color="black",
    bins=90,
    edgecolor="white",
    linewidth=1,
)
plt.ylabel("Frequency")


plt.figure(figsize=(25, 6))
sns.lineplot(x=range(SAMPLESIZE), y=samples5, color="k", linewidth=1)
plt.ylabel("Accepted Value", fontsize=12)





np.random.seed(6)
samples6 = MetropolisSample(pdf=target, init_state=0, step_size=50)
print(f"Mean: {np.mean(samples6)}\nVariance: {np.var(samples5)}")

plt.figure(figsize=FIGSIZE)
sns.histplot(
    samples6,
    stat="density",
    kde=True,
    color="black",
    bins=90,
    edgecolor="white",
    linewidth=1,
)
plt.ylabel("Frequency")


plt.figure(figsize=(25, 6))
sns.lineplot(x=range(SAMPLESIZE), y=samples6, color="black", linewidth=1.5)
plt.ylabel("Accepted Value", fontsize=12)
