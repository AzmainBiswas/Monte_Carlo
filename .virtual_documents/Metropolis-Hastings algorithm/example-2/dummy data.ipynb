


import numpy as np
import seaborn as sns
from matplotlib import pyplot as plt
from scipy import stats


MEAN = 10
SCALE = 3
SAMPLE_SIZE = 100_000

# population of 30_000 with mean 10 and scale = 3
population = np.random.normal(MEAN, SCALE, SAMPLE_SIZE)
population


np.random.seed(0)

# we are only abel to observe 1000 sample
observation = population[np.random.randint(0, SAMPLE_SIZE, 1000)]

plt.figure(figsize=(9, 6))
sns.histplot(observation, color="k", bins=20)
plt.ylabel("Frequency")

mu_obs = np.mean(observation)
mu_obs





def prior(current_state):
    if current_state <= 0:
        return 0
    else:
        return 1


def log_like_normal(mu, sigma, data):
    return np.sum(
        -np.log(sigma * np.sqrt(2 * np.pi)) - ((data - mu) ** 2) / (2 * sigma**2)
    )


def acceptance(current, new):
    if new > current:
        return True
    else:
        accept = np.random.uniform(0, 1)
        # since we are dealing with log of likelihood function so we have to take exp.
        return accept < (np.exp(new - current))


def Metropolis(
    prior, log_like_normal, acceptance, mu, init_state, data, sample_size=SAMPLE_SIZE
):
    current_state = init_state
    samples = []
    for _ in range(sample_size):
        candidate_state = np.random.normal(loc=current_state, scale=0.5, size=1)
        current_likelihood = log_like_normal(mu, current_state, data)
        candidate_likelihood = log_like_normal(mu, candidate_state, data)
        if acceptance(
            current_likelihood + np.log(prior(current_state)),
            candidate_likelihood + np.log(prior(candidate_state)),
        ):
            current_state = candidate_state
            samples.append(current_state)
    return np.array(samples)


np.random.seed(1)

samples_of_sigma = Metropolis(
    prior, log_like_normal, acceptance, mu_obs, 0.1, population
)





print(samples_of_sigma.shape)
print(samples_of_sigma[-10:])





hist_show = int(-0.75 * samples_of_sigma.shape[0])

plt.figure(figsize=(9, 6))
plt.hist(
    samples_of_sigma[hist_show:],
    color="#3a3b3a",
    edgecolor="black",
    density=True,
    bins=20,
)


sigam_obs = samples_of_sigma.mean()
print(f"Mean of sigmas: {sigam_obs}")





np.random.seed(3)

print(f"experimental Mean: {mu_obs}, Variance: {sigam_obs}")
experemental_population = np.random.normal(mu_obs, sigam_obs, SAMPLE_SIZE)

plt.figure(figsize=(15, 6))
plt.subplot(1, 2, 1)
sns.histplot(
    experemental_population,
    color="black",
    bins=70,
    stat="density",
    label="Predicted",
)
plt.legend()
plt.subplot(1, 2, 2)
sns.histplot(population, color="black", bins=70, stat="density", label="Original")
plt.legend()





t_stat, p_value = stats.ttest_ind(experemental_population, population)
print(f"{t_stat}, {p_value}")





print(experemental_population.mean(), experemental_population.std())
print(population.mean(), population.std())

X1_bar = experemental_population.mean()
X2_bar = population.mean()
sigma1 = experemental_population.std()
sigma2 = population.std()

alpha = 0.05

z_score = (X1_bar - X2_bar) / (
    np.sqrt(sigma1**2 / SAMPLE_SIZE + sigma2**2 / SAMPLE_SIZE)
)
print(z_score)

p_value = 2 * stats.norm.cdf(np.abs(z_score))
print(p_value)
