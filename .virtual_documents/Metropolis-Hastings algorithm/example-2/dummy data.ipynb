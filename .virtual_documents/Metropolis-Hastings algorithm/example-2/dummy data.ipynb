


import numpy as np
import seaborn as sns
from matplotlib import pyplot as plt
from scipy import stats


MEAN = 10
SCALE = 3
SAMPLE_SIZE = 100_000

# population of 30_000 with mean 10 and scale = 3
population = np.random.normal(MEAN, SCALE, SAMPLE_SIZE)
population


np.random.seed(0)

# we are only abel to observe 1000 sample
observation = population[np.random.randint(0, SAMPLE_SIZE, 1000)]

plt.figure(figsize=(9, 6))
sns.histplot(observation, edgecolor="w", bins=30,label="observation")
plt.legend()
plt.ylabel("Frequency")

mu_obs = np.mean(observation)
mu_obs





def prior(current_state):
    if current_state <= 0:
        return 0
    else:
        return 1


def log_like_normal(mu, sigma, data):
    return np.sum(
        -np.log(sigma * np.sqrt(2 * np.pi)) - ((data - mu) ** 2) / (2 * sigma**2)
    )


def acceptance(current, new):
    if new > current:
        return True
    else:
        accept = np.random.uniform(0, 1)
        # since we are dealing with log of likelihood function so we have to take exp.
        return accept < (np.exp(new - current))


def Metropolis(
    prior, log_like_normal, acceptance, mu, init_state, data, sample_size=SAMPLE_SIZE
):
    current_state = init_state
    samples = []
    for _ in range(sample_size):
        candidate_state = np.random.normal(loc=current_state, scale=0.5, size=1)
        current_likelihood = log_like_normal(mu, current_state, data)
        candidate_likelihood = log_like_normal(mu, candidate_state, data)
        if acceptance(
            current_likelihood + np.log(prior(current_state)),
            candidate_likelihood + np.log(prior(candidate_state)),
        ):
            current_state = candidate_state
            samples.append(current_state)
    return np.array(samples)


# running mean
def RunningMeans(sample):
    cumulative_sum = np.cumsum(sample)
    indices = np.arange(1, len(cumulative_sum) + 1)
    running_means = cumulative_sum / indices
    return running_means


np.random.seed(1)

samples_of_sigma = Metropolis(
    prior, log_like_normal, acceptance, mu_obs, 0.1, population
)





print(samples_of_sigma.shape)
print(samples_of_sigma[-10:])


samples_of_sigma[-10:, 0]


running_mean_ib = RunningMeans(samples_of_sigma[:, 0])


plt.figure(figsize=(9, 6))
sns.lineplot(
    x=range(len(samples_of_sigma)),
    y=samples_of_sigma[:, 0],
    color="k",
    linewidth=1,
    label="accepted values",
)
sns.lineplot(
    x=range(len(running_mean_ib)),
    y=running_mean_ib,
    color="r",
    alpha=0.7,
    label="running means",
)
plt.ylabel("accepted values", fontsize=12)
plt.xlabel("Number of iteration", fontsize=12)





running_means = RunningMeans(samples_of_sigma[burn_in:, 0])


# Create subplots with specified width ratios
fig, axs = plt.subplots(1, 2, figsize=(20, 7), gridspec_kw={"width_ratios": [7, 3]})
plt.subplots_adjust(right=0.8, wspace=0.08)

# First subplot: line plot
axs[0].grid()
sns.lineplot(
    ax=axs[0],
    x=range(len(samples_of_sigma[burn_in:, 0])),
    color="k",
    linewidth=1,
    y=samples_of_sigma[burn_in:, 0],
    label="accepted values",
)
sns.lineplot(
    ax=axs[0],
    x=range(len(running_means)),
    y=running_means,
    color="red",
    label="running means",
)
axs[0].set_xlabel("Number of Iteration", fontsize=12)
# axs[0].set_ylabel("Accepted Value", fontsize=12)

# Second subplot: histogram plot
sns.histplot(
    ax=axs[1],
    y=samples_of_sigma[burn_in:, 0],
    stat="density",
    color="black",
    edgecolor="white",
    # kde=True,
    linewidth=1,
    bins=20,
    label="simulated values",
)
axs[1].set_xlabel("Frequency", fontsize=12)

plt.legend()
# Show the plot
plt.show()


sigam_obs = samples_of_sigma[burn_in:].mean()
print(f"Mean of sigmas: {sigam_obs}")





np.random.seed(3)

print(f"experimental Mean: {mu_obs}, Variance: {sigam_obs}")
experemental_population = np.random.normal(mu_obs, sigam_obs, SAMPLE_SIZE)

plt.figure(figsize=(15, 6))
plt.subplot(1, 2, 1)
sns.histplot(
    experemental_population,
    color="orange",
    edgecolor="w",
    bins=50,
    stat="density",
    label="Predicted",
)
plt.legend()
plt.subplot(1, 2, 2)
sns.histplot(population, bins=50, edgecolor="w", stat="density", label="Original")
plt.legend()


plt.figure(figsize=(9, 6))
sns.histplot(population, bins=40, edgecolor="w",stat="density", label="Original population", alpha=0.5)
sns.histplot(
    experemental_population,
    bins=40,
    edgecolor="w",
    stat="density",
    label="samples from MH algotithm",
    alpha=0.5,
)
plt.xlabel("data")
plt.ylabel("frequency")
plt.legend()





t_stat, p_value = stats.ttest_ind(experemental_population, population)
print(f"{t_stat}, {p_value}")





print(experemental_population.mean(), experemental_population.std())
print(population.mean(), population.std())

X1_bar = experemental_population.mean()
X2_bar = population.mean()
sigma1 = experemental_population.std()
sigma2 = population.std()

alpha = 0.05

z_score = (X1_bar - X2_bar) / (
    np.sqrt(sigma1**2 + sigma2**2)
)
print(z_score)

p_value = 2 * stats.norm.cdf(np.abs(z_score))
print(p_value)



