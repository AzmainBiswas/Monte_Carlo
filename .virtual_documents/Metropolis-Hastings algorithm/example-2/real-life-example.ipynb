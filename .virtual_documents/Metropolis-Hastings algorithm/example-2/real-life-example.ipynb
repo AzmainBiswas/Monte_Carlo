


import numpy as np
import pandas as pd
import seaborn as sns
from matplotlib import pyplot as plt
from scipy import stats
from scipy.special import gamma





df_sunspot = pd.read_csv("SN_m_tot_V2.0.csv")

years = np.array(df_sunspot["C3"])  # fraction of year.
sunspot_count = np.array(df_sunspot["C4"])  # sunspot count.


plt.figure(figsize=(20, 20))
plt.subplot(2, 1, 1)
sns.lineplot(x=years, y=sunspot_count, color="k", label="Sunspot Count")
plt.xlabel("Years", fontsize=14)
plt.ylabel("Monthly mean total sunspot number", fontsize=14)
plt.title("Sunspot (1749 - 2024)")

plt.subplot(2, 1, 2)
sns.lineplot(x=years[2654:], y=sunspot_count[2654:], color="k", label="Sunspot Count")
plt.xlabel("Years", fontsize=14)
plt.ylabel("Monthly mean total sunspot number", fontsize=14)
plt.title("Sunspot (1970-2024")





plt.figure(figsize=(9, 6))
sns.histplot(
    sunspot_count,
    color="black",
    stat="density",
    kde=True,
    bins=100,
    label="Sunsopt Count",
)
plt.ylabel("Frequency", fontsize=14)
plt.xlabel("Sunspot Count", fontsize=14)
plt.title("Frequency of Sunspot (1749-2024)")





# prior density
def prior(alpha, lam):
    if alpha <= 0 or lam <= 0:
        return 0
    else:
        return 1


# log Likelihood
# def log_like_gamma(alpha, lam, data):
#     return np.sum(
#         np.log(lam)
#         - (lam * data)
#         + (alpha - 1) * np.log(lam * data)
#         - np.log(gamma(alpha))
#     )
def log_like_gamma(alpha, lam, data):
    return np.sum(np.log(scipy.stats.gamma(alpha,lam).pdf(data)))


# accept
def acceptance(current, new):
    if new > current:
        return True
    else:
        accept = np.random.uniform(0, 1)
        # since we are dealing with log of likelihood function so we have to take exp.
        return accept < (np.exp(new - current))


# M-H
def Metropolis(
    init_state,
    data,
    log_like_gamma=log_like_gamma,
    prior=prior,
    acceptance=acceptance,
    sample_size=50000,
):
    alpha_currnet_state = init_state[0]
    lam_currnet_state = init_state[1]
    accpet_alpha = []
    reject_alpha = []
    accept_lam = []
    reject_lam = []
    for _ in range(sample_size):
        alpha_candidate_state = np.random.normal(alpha_currnet_state, 0.05)
        lam_candidate_state = np.random.normal(lam_currnet_state, 1)

        current_likelihooh = log_like_gamma(
            alpha_currnet_state, lam_currnet_state, data
        )
        candidate_likelihood = log_like_gamma(
            alpha_candidate_state, lam_candidate_state, data
        )

        if acceptance(
            current_likelihooh + np.log(prior(alpha_currnet_state, lam_currnet_state)),
            candidate_likelihood
            + np.log(prior(alpha_candidate_state, lam_candidate_state)),
        ):
            alpha_currnet_state = alpha_candidate_state
            lam_currnet_state = lam_candidate_state
            accpet_alpha.append(alpha_currnet_state)
            accept_lam.append(lam_currnet_state)
        else:
            reject_alpha.append(alpha_candidate_state)
            reject_lam.append(lam_candidate_state)

    return (
        np.array(accpet_alpha),
        np.array(reject_alpha),
        np.array(accept_lam),
        np.array(reject_lam),
    )


np.random.seed(1)

accept_alpha, reject_alpha, accept_lam, reject_lam = Metropolis(
    init_state=[1, 2], data=sunspot_count
)


reject_alpha.shape
