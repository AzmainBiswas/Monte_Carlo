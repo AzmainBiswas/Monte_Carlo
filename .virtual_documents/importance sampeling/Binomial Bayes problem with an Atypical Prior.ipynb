


import numpy as np
import matplotlib.pylab as plt
import seaborn as sns


# define values
m = 100
x = 45


def estimation_of_mu(n, x=x, m=m):
    p = np.random.beta(x + 1, m - x + 1, n)
    sin2 = np.power(np.sin(np.pi * p), 2)
    p_sin2 = np.multiply(p, sin2)
    numerator = np.sum(p_sin2)
    denominator = np.sum(sin2)
    mu_hat = np.divide(numerator, denominator)
    var = np.divide(np.var(p_sin2), np.var(sin2))
    return mu_hat, var


sample_sizes = np.array([20, 50, 100, 250, 500])
sample_mean = np.array([])
sample_var = np.array([])
for n in sample_sizes:
    mu, var = estimation_of_mu(n)
    sample_mean = np.append(sample_mean, mu)
    sample_var = np.append(sample_var, var)


print("Sample Size  Importance Sampling Estimate of mu  Variance")
i = 0
for n in sample_sizes:
    print(f"{sample_sizes[i]}  {sample_mean[i]:.4f}  {sample_var[i]:.4f}")
    i += 1


plt.figure(figsize=(13, 4))
plt.subplot(1, 2, 1)
sns.lineplot(x=sample_sizes, y=sample_mean)
plt.grid()
plt.xlabel("Exception", fontsize=15)
plt.subplot(1, 2, 2)
sns.lineplot(x=sample_sizes, y=sample_var)
plt.xlabel("Variance", fontsize=15)
plt.grid()
plt.show()


# ploting curves
def pih_h_0(p, x=x, m=m):
    return p * np.power(p, x) * np.power(1 - p, m - x) * np.power(np.sin(np.pi * p), 2)


def h_1(p, x=x, m=m):
    return np.power(p, x) * np.power(1 - p, m - x)


from cProfile import label


x = np.linspace(0, 1, 10000)

plt.figure(figsize=(8, 4))
plt.plot(x, pih_h_0(x), c="r", label=r"$\phi(x)h_0(x)$")
plt.plot(x, h_1(x), c="b", label=r"$h_1(x)$")
plt.xlabel(r"$X$")
plt.ylabel(r"$Y$")
plt.grid()
plt.legend()
plt.show()



