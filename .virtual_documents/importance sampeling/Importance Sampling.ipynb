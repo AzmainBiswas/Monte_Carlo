import numpy as np
import matplotlib.pyplot as plt
from scipy import integrate
from scipy import stats





# define a function h(x) 
def h(x):
    return np.exp(-2 * np.abs(x-5))


# plot h(x)
x = np.linspace(1,10,10000)
plt.figure(figsize=(8,4))
plt.plot(x,h(x),c='b', label='h(x)')
plt.grid()
plt.xlabel("x")
plt.ylabel("y")
plt.show()


# newmarical value of integration.
eval_int, _ = integrate.quad(h,0,10)
eval_int





x = np.linspace(0, 10, 1000)

plt.figure(figsize=(8,4))
# plot the function of random vairable x i.e. h(x)
plt.plot(x, h(x),c='b', label=r'$h(x)$')
# plot the uniform distribution that we would use to sample
plt.plot(x, stats.uniform(0, 10).pdf(x), label=r'U(0,10)')
plt.legend()
plt.grid()
plt.show()


def Monte_carlo_int(N):
    u = np.random.uniform(size=N) # U[0,1]
    u10 = 10*u #U[0,10]
    y = 10*h(u10)
    mean = np.mean(y)
    ver = np.var(y)
    return mean, ver


means = np.array([])
vars = np.array([])
sample_sizes = np.array([10**1,10**2,10**3,10**4,10**5,10**6])
for N in sample_sizes:
    mean, var = Monte_carlo_int(N)
    means = np.append(means, mean)
    vars = np.append(vars,var)

plt.figure(figsize=(13,4))
plt.subplot(1,2,1)
plt.plot(means, label='Expected Value')
plt.xlabel("Expected Value",fontsize=15)
plt.grid()
plt.subplot(1,2,2)
plt.plot(vars,label="variance")
plt.xlabel("Variance", fontsize=15)
plt.grid()
plt.show()


print("Sample Size  Estimated Value I=0.9999  Variance")
for i in range(len(sample_sizes)):
    print(f"{sample_sizes[i]:}  {means[i]:.4f}  {vars[i]:.4f}")





x = np.linspace(0, 10, 1000)

plt.figure(figsize=(13,4))
plt.subplot(1,2,1)
# plot the function of random vairable x i.e. h(x)
plt.plot(x, h(x),c='b', label=r'$h(x)$')
# plot the uniform distribution that we would use to sample
plt.plot(x, stats.uniform(0, 10).pdf(x),c='r', label=r'U(0,10)')
plt.legend()
plt.grid()
plt.subplot(1,2,2)
# plot the function of random vairable x i.e. h(x)
plt.plot(x, h(x),c='b', label=r'$h(x)$')
# plot the uniform distribution that we would use to sample
plt.plot(x, stats.norm(5,1).pdf(x),c='orange' , label=r'N(5,1)')
plt.legend()
plt.grid()
plt.show()





def W(x):
    return stats.uniform(0,10).pdf(x) / stats.norm(5,1).pdf(x)


def Importence_sampleing_int(N):
    u = np.random.normal(5,1,size=N)
    Y = 10*h(u)*W(u)
    mean = np.mean(Y)
    var = np.var(Y)
    return mean, var


sample_sizes = np.array([10**1,10**2,10**3,10**4,10**5,10**6])
means = np.array([])
vars = np.array([])

for N in sample_sizes:
    mean, var = Importence_sampleing_int(N)
    means = np.append(means, mean)
    vars = np.append(vars, var)


print("Sample Size  Estimated Value(I=0.9999)  Variance")
for i in range(len(sample_sizes)):
    print(f"{sample_sizes[i]}  {means[i]:}  {vars[i]:}")


plt.figure(figsize=(13,4))
plt.subplot(1,2,1)
plt.plot(means,label='Expected Value')
plt.xlabel("Expected Value",fontsize=15)
plt.grid()
plt.subplot(1,2,2)
plt.plot(vars,label="variance")
plt.xlabel("Variance", fontsize=15)
plt.grid()
plt.show()



