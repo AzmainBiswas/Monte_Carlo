


import numpy as np
from scipy import stats
from matplotlib import pyplot as plt
import seaborn as sns

# constant variables
SAMPLE_SIZE = 100_000
RHO = 0.5
Mean = np.array([0,0])
Covariancs_Matrix = np.array([[1, RHO], [RHO, 1]])





normal_sample = np.random.multivariate_normal(Mean, Covariancs_Matrix, SAMPLE_SIZE)
plt.figure(figsize=[9,6])
sns.scatterplot(x=normal_sample[:,0], y=normal_sample[:,1],s=5,color="blue")
plt.xlabel(r"$X_1$")
plt.ylabel(r"$X_2$")





norm_dist = stats.multivariate_normal(mean=Mean,cov=Covariancs_Matrix,seed=1000)
x = np.linspace(-3, 3, 100)
y = np.linspace(-3, 3, 100)
X, Y = np.meshgrid(x, y)

pdf = np.zeros(X.shape)
for i in range(X.shape[0]):
    for j in range(X.shape[1]):
        pdf[i,j] = norm_dist.pdf([X[i,j], Y[i,j]])

plt.figure(figsize=[9,8])
plt.contourf(X,Y, pdf,cmap='Greys')





def Gibbs_Sample(inetial_sample, sample_size=SAMPLE_SIZE):
    sample = inetial_sample.copy()
    for _ in range(sample_size):
        old_y = sample[1][-1]
        new_x = np.random.normal(RHO*old_y, (1-RHO**2))
        new_y = np.random.normal(RHO*new_x, (1-RHO**2))
        sample[0].append(new_x)
        sample[1].append(new_y)
    return np.array(sample)





init_sample1 = [[-1], [-1]]
sample1 = Gibbs_Sample(init_sample1)


plt.figure(figsize=[9,6])
sns.scatterplot(x=sample1[0], y=sample1[1],s=5,color="blue")
plt.xlabel(r"$X_1$")
plt.ylabel(r"$X_2$")





init_sample2 = [[-4], [-4]]
sample2 = Gibbs_Sample(init_sample2)


plt.figure(figsize=[9,6])
sns.scatterplot(x=sample2[0], y=sample2[1],s=5,color="blue")
plt.xlabel(r"$X_1$")
plt.ylabel(r"$X_2$")





init_sample3 = [[-4], [-4]]
sample3 = Gibbs_Sample(init_sample3)


plt.figure(figsize=[9,6])
sns.scatterplot(x=sample3[0], y=sample3[1],s=5,color="blue")
plt.xlabel(r"$X_1$")
plt.ylabel(r"$X_2$")





plt.figure(figsize=(9,6))
sns.histplot(sample1[0],color="blue", alpha=0.5, bins=50,stat="density",label="inetial state (-1,-1)")
sns.histplot(sample2[0],color="orange", alpha=0.5, bins=50,stat="density",label="inetial state (-4,-4)")
sns.histplot(sample3[0],color="yellow", alpha=0.4, bins=50,stat="density",label="inetial state (0,0)")
plt.legend()
plt.xlabel(r"$X_1$")


plt.figure(figsize=(9,6))
sns.histplot(sample1[1],color="blue", alpha=0.5, bins=50,stat="density",label="inetial state (-1,-1)")
sns.histplot(sample2[1],color="orange", alpha=0.5, bins=50,stat="density",label="inetial state (-4,-4)")
sns.histplot(sample3[1],color="yellow", alpha=0.4, bins=50,stat="density",label="inetial state (0,0)")
plt.legend()
plt.xlabel(r"$X_2$")
