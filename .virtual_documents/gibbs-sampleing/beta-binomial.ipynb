





import numpy as np
import matplotlib.pyplot as plt
import seaborn as sns


## variables
SAMPLE_SIZE = 100_000
N = 10
ALPHA = 7
BETA = 2

t_mean = (N * ALPHA) / (ALPHA + BETA)
t_variance = ((N * ALPHA * BETA) / (ALPHA + BETA) ** 2) * (
    (ALPHA + BETA + N) / (ALPHA + BETA + 1)
)
print(f"Theoritical\nMean: {t_mean}\nVariance: {t_variance}")


burn_in = int(0.25*SAMPLE_SIZE)


sample = [[np.random.beta(ALPHA, BETA)], []]
for _ in range(SAMPLE_SIZE):
    current_p = sample[0][-1]
    new_x = np.random.binomial(N, current_p)
    new_p = np.random.beta(new_x + ALPHA, N - new_x + BETA)
    sample[0].append(new_p)
    sample[1].append(new_x)


np.mean(sample[1])


np.var(sample[1])


plt.figure(figsize=(9, 6))
sns.histplot(sample[1], bins=22, stat="density")
plt.xlabel(
    f"Theoritical: Mean = {t_mean:0.4f}, Variance = {t_variance:0.4f}\nEmpirical: Mean = {np.mean(sample[1]):0.4f}, Variance = {np.var(sample[1]):.4f}",
    fontsize=12,
)



