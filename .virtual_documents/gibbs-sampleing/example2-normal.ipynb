


import numpy as np
import seaborn as sns
from matplotlib import pyplot as plt





SAMPLE_SIZE = 100_000
MEAN = 10
SCALE = 3

# N(10, 9)
population = np.random.normal(MEAN, SCALE, SAMPLE_SIZE)
observation = population[np.random.randint(0, SAMPLE_SIZE, 1000)]
observation


plt.figure(figsize=(9, 6))
sns.histplot(observation, color="k", stat="density", bins=40, kde=True)
plt.ylabel("frequency")
plt.xlabel("data")


print(f"Mean of observation data: {observation.mean()}")
print(f"std of observation data: {np.sqrt(observation.var())}")








### Variables

## prior
# mu ~ N(mu0, sigma02)
mu0 = 10
sigma02 = 5

# sigm2 ~ INV-GAMMA(alpha, beta)
alpha = 2
beta = 18

# sigm2 ~ Scaled-INV-CHISQURE(v, sigma02) # degrees of fredom v -> 3 or 4 ( > 2) good choice 
v = 4





sample = [
    [np.random.normal(mu0, np.sqrt(sigma02))],
    [1 / np.random.gamma(alpha, 1 / beta)],
]
for _ in range(SAMPLE_SIZE):
    current_sigma = sample[1][-1]
    mu_post_mean = (1 / ((1 / sigma02) + (len(observation) / current_sigma))) * (
        (mu0 / sigma02) + (observation.sum() / current_sigma)
    )
    mu_post_scale = (sigma02 * current_sigma) / (
        len(observation) * sigma02 + current_sigma
    )
    new_mu = np.random.normal(mu_post_mean, mu_post_scale)
    sigma_post_alpha = alpha + len(observation) / 2
    sigma_post_beta = beta + np.sum((observation - new_mu) ** 2) / 2
    new_sigma = 1/np.random.gamma(sigma_post_alpha, 1/sigma_post_beta)
    sample[0].append(new_mu)
    sample[1].append(new_sigma)

sample = np.array(sample)
sample


sample[0].mean()


np.sqrt(sample[1].mean())





sample2 = [
    [np.random.normal(mu0, np.sqrt(sigma02))],
    [sigma02*v/np.random.chisquare(v)],
]
for _ in range(SAMPLE_SIZE):
    current_sigma = sample2[1][-1]
    mu_post_mean = (1 / ((1 / sigma02) + (len(observation) / current_sigma))) * (
        (mu0 / sigma02) + (observation.sum() / current_sigma)
    )
    mu_post_scale = (sigma02 * current_sigma) / (
        len(observation) * sigma02 + current_sigma
    )
    new_mu = np.random.normal(mu_post_mean, mu_post_scale)
    sigma_post_df = v + len(observation)
    sigma_post_scale = ( ( v * sigma02 + np.sum( (observation - new_mu)**2 ) ) / sigma_post_df )
    new_sigma = sigma_post_scale * sigma_post_df / np.random.chisquare(sigma_post_df)
    sample2[0].append(new_mu)
    sample2[1].append(new_sigma)

sample2 = np.array(sample2)
sample2


sample2[0].mean()


np.sqrt(sample2[1].mean())





plt.figure(figsize=(9,6))
sns.histplot(population,alpha=0.5,bins=40,label="Original",stat="density")
sns.histplot(np.random.normal(sample[0].mean(),np.sqrt(sample[1].mean()),SAMPLE_SIZE),alpha=0.5,bins=40,label=r"prior of $\sigma^2$ is Inv-Gamma",stat="density")
sns.histplot(np.random.normal(sample2[0].mean(),np.sqrt(sample2[1].mean()),SAMPLE_SIZE),alpha=0.5,bins=40,label=r"prior of $\sigma^2$ is Scaled-Inv-Chisquare", stat="density")
plt.legend()
