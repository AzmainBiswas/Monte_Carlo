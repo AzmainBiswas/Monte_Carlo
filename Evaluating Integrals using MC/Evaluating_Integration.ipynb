{
 "cells": [
  {
   "cell_type": "code",
   "execution_count": 6,
   "metadata": {},
   "outputs": [],
   "source": [
    "import numpy as np\n",
    "import matplotlib.pyplot as plt\n",
    "import csv\n",
    "import pandas"
   ]
  },
  {
   "cell_type": "markdown",
   "metadata": {},
   "source": [
    "### Defining Function to Integrate. \n",
    "\n",
    "In This case \n",
    "$$ e^{-\\frac{x^2}{2}} $$"
   ]
  },
  {
   "cell_type": "code",
   "execution_count": 2,
   "metadata": {},
   "outputs": [],
   "source": [
    "UpLimit = 1  # upper limit\n",
    "LowerLimit = 0  # lower limit\n",
    "\n",
    "\n",
    "def fun(x):  # function to be integrated\n",
    "    return np.exp(-(x**2) / 2)"
   ]
  },
  {
   "cell_type": "markdown",
   "metadata": {},
   "source": [
    "### Monte Carlo algorithem"
   ]
  },
  {
   "cell_type": "code",
   "execution_count": 3,
   "metadata": {},
   "outputs": [],
   "source": [
    "def MonteCarlo(fun, UpLimit, LowerLimit, SimNumber):\n",
    "    I = 10000  # number of itaration\n",
    "    IntegralValues = []\n",
    "    for i in range(SimNumber):\n",
    "        X = np.random.uniform(LowerLimit, UpLimit, I)\n",
    "        ValuesOfFunction = fun(X)\n",
    "        SumfFunction = ValuesOfFunction.sum()\n",
    "        IntegralValue = SumfFunction / float(len(ValuesOfFunction))\n",
    "        IntegralValues.append(IntegralValue)\n",
    "    return sum(IntegralValues) / len(IntegralValues)"
   ]
  },
  {
   "cell_type": "markdown",
   "metadata": {},
   "source": [
    "### Output in CSV file"
   ]
  },
  {
   "cell_type": "code",
   "execution_count": 15,
   "metadata": {},
   "outputs": [],
   "source": [
    "with open(\"Value_of_Integral.csv\", \"w\", newline=\"\") as file:\n",
    "    writter = csv.writer(file)\n",
    "    writter.writerow([\"n\", \"Value of Integration\"])\n",
    "    for n in [50, 100, 1000, 10000, 100000]:\n",
    "        writter.writerow(\n",
    "            [\n",
    "                n,\n",
    "                MonteCarlo(\n",
    "                    fun=fun, UpLimit=UpLimit, LowerLimit=LowerLimit, SimNumber=n\n",
    "                ),\n",
    "            ]\n",
    "        )\n",
    "    file.close"
   ]
  },
  {
   "cell_type": "markdown",
   "metadata": {},
   "source": [
    "### Ploting"
   ]
  },
  {
   "cell_type": "code",
   "execution_count": 5,
   "metadata": {},
   "outputs": [
    {
     "data": {
      "image/png": "[encoded data removed]",
      "text/plain": [
       "<Figure size 800x500 with 1 Axes>"
      ]
     },
     "metadata": {},
     "output_type": "display_data"
    }
   ],
   "source": [
    "def MonteCarlo_For_Plot(fun, UpLimit, LowerLimit, SimNumber):\n",
    "    I = 10000  # number of itaration\n",
    "    IntegralValues = []\n",
    "    for i in range(SimNumber):\n",
    "        X = np.random.uniform(LowerLimit, UpLimit, I)\n",
    "        ValuesOfFunction = fun(X)\n",
    "        SumfFunction = ValuesOfFunction.sum()\n",
    "        IntegralValue = SumfFunction / float(len(ValuesOfFunction))\n",
    "        IntegralValues.append(IntegralValue)\n",
    "    return IntegralValues\n",
    "\n",
    "\n",
    "plt.figure(figsize=(8, 5))\n",
    "plt.hist(\n",
    "    MonteCarlo_For_Plot(fun, UpLimit, LowerLimit, 10000),\n",
    "    color=\"white\",\n",
    "    bins=120,\n",
    "    edgecolor=\"black\",\n",
    ")\n",
    "plt.show()"
   ]
  }
 ],
 "metadata": {
  "kernelspec": {
   "display_name": "Python 3 (ipykernel)",
   "language": "python",
   "name": "python3"
  },
  "language_info": {
   "codemirror_mode": {
    "name": "ipython",
    "version": 3
   },
   "file_extension": ".py",
   "mimetype": "text/x-python",
   "name": "python",
   "nbconvert_exporter": "python",
   "pygments_lexer": "ipython3",
   "version": "3.11.2"
  }
 },
 "nbformat": 4,
 "nbformat_minor": 4
}
