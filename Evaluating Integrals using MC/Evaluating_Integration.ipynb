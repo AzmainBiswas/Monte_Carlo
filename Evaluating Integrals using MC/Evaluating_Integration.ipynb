{
 "cells": [
  {
   "cell_type": "code",
   "execution_count": 1,
   "metadata": {},
   "outputs": [
    {
     "name": "stderr",
     "output_type": "stream",
     "text": [
      "Matplotlib is building the font cache; this may take a moment.\n"
     ]
    }
   ],
   "source": [
    "import numpy as np\n",
    "import matplotlib.pyplot as plt\n",
    "import csv"
   ]
  },
  {
   "cell_type": "markdown",
   "metadata": {},
   "source": [
    "### Defining Function to Integrate. \n",
    "\n",
    "In This case \n",
    "$$ e^{-\\frac{x^2}{2}} $$"
   ]
  },
  {
   "cell_type": "code",
   "execution_count": 2,
   "metadata": {},
   "outputs": [],
   "source": [
    "UpLimit = 1  # upper limit\n",
    "LowerLimit = 0  # lower limit\n",
    "\n",
    "\n",
    "def fun(x):  # function to be integrated\n",
    "    return np.exp(-(x**2) / 2)"
   ]
  },
  {
   "cell_type": "markdown",
   "metadata": {},
   "source": [
    "### Monte Carlo algorithem"
   ]
  },
  {
   "cell_type": "code",
   "execution_count": 3,
   "metadata": {},
   "outputs": [],
   "source": [
    "def MonteCarlo(fun, UpLimit, LowerLimit, SimNumber):\n",
    "    I = 10000  # number of itaration\n",
    "    IntegralValues = []\n",
    "    for i in range(SimNumber):\n",
    "        X = np.random.uniform(LowerLimit, UpLimit, I)\n",
    "        ValuesOfFunction = fun(X)\n",
    "        SumfFunction = ValuesOfFunction.sum()\n",
    "        IntegralValue = SumfFunction / float(len(ValuesOfFunction))\n",
    "        IntegralValues.append(IntegralValue)\n",
    "    return sum(IntegralValues) / len(IntegralValues)"
   ]
  },
  {
   "cell_type": "markdown",
   "metadata": {},
   "source": [
    "### Output in CSV file"
   ]
  },
  {
   "cell_type": "code",
   "execution_count": 4,
   "metadata": {},
   "outputs": [],
   "source": [
    "with open(\"Value_of_Integral.csv\", \"w\", newline='') as file:\n",
    "    writter = csv.writer(file)\n",
    "    writter.writerow([\"n\", \"Value of Integration\"])\n",
    "    for n in [50, 100, 1000, 10000, 100000]:\n",
    "        writter.writerow([n,MonteCarlo(fun=fun, UpLimit=UpLimit, LowerLimit=LowerLimit, SimNumber=n)])\n",
    "    file.close"
   ]
  },
  {
   "cell_type": "markdown",
   "metadata": {},
   "source": [
    "### Ploting"
   ]
  },
  {
   "cell_type": "code",
   "execution_count": 5,
   "metadata": {},
   "outputs": [
    {
     "data": {
      "image/png": "[encoded data removed]",
      "text/plain": [
       "<Figure size 800x500 with 1 Axes>"
      ]
     },
     "metadata": {},
     "output_type": "display_data"
    }
   ],
   "source": [
    "def MonteCarlo_For_Plot(fun, UpLimit, LowerLimit, SimNumber):\n",
    "    I = 10000  # number of itaration\n",
    "    IntegralValues = []\n",
    "    for i in range(SimNumber):\n",
    "        X = np.random.uniform(LowerLimit, UpLimit, I)\n",
    "        ValuesOfFunction = fun(X)\n",
    "        SumfFunction = ValuesOfFunction.sum()\n",
    "        IntegralValue = SumfFunction / float(len(ValuesOfFunction))\n",
    "        IntegralValues.append(IntegralValue)\n",
    "    return IntegralValues\n",
    "\n",
    "plt.figure(figsize=(8,5))\n",
    "plt.hist(MonteCarlo_For_Plot(fun,UpLimit,LowerLimit,10000),bins=50, edgecolor=\"black\")\n",
    "plt.show()"
   ]
  }
 ],
 "metadata": {
  "kernelspec": {
   "display_name": ".venv",
   "language": "python",
   "name": "python3"
  },
  "language_info": {
   "codemirror_mode": {
    "name": "ipython",
    "version": 3
   },
   "file_extension": ".py",
   "mimetype": "text/x-python",
   "name": "python",
   "nbconvert_exporter": "python",
   "pygments_lexer": "ipython3",
   "version": "3.11.2"
  }
 },
 "nbformat": 4,
 "nbformat_minor": 2
}
