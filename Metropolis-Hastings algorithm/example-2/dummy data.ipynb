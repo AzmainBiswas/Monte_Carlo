{
 "cells": [
  {
   "cell_type": "markdown",
   "id": "ee5eda2f-6200-43f1-84ff-1e5f082700fc",
   "metadata": {},
   "source": [
    "# Dummy Data Example\n",
    "\n",
    "Suppose we have 1000 data and we dont know any thing about data. Now we want to generate more samples using those 1000 samples which follows the same distribution as provious samples. "
   ]
  },
  {
   "cell_type": "code",
   "execution_count": 2,
   "id": "6a8280d3-dc25-49ff-b3c0-280eaa7d82b8",
   "metadata": {},
   "outputs": [],
   "source": [
    "import numpy as np\n",
    "import seaborn as sns\n",
    "from matplotlib import pyplot as plt\n",
    "from scipy import stats"
   ]
  },
  {
   "cell_type": "code",
   "execution_count": 3,
   "id": "ec720762-e9c8-402f-b073-e37331499d33",
   "metadata": {},
   "outputs": [
    {
     "data": {
      "text/plain": [
       "array([10.74757418,  9.32817439,  8.25837013, ..., 14.50744123,\n",
       "        7.20812772, 13.83916376])"
      ]
     },
     "execution_count": 3,
     "metadata": {},
     "output_type": "execute_result"
    }
   ],
   "source": [
    "MEAN = 10\n",
    "SCALE = 3\n",
    "SAMPLE_SIZE = 100_000\n",
    "\n",
    "# population of 30_000 with mean 10 and scale = 3\n",
    "population = np.random.normal(MEAN, SCALE, SAMPLE_SIZE)\n",
    "population"
   ]
  },
  {
   "cell_type": "code",
   "execution_count": 4,
   "id": "417abb2c-6301-4915-92bf-0f46da626d27",
   "metadata": {},
   "outputs": [
    {
     "data": {
      "text/plain": [
       "10.075376024447806"
      ]
     },
     "execution_count": 4,
     "metadata": {},
     "output_type": "execute_result"
    },
    {
     "data": {
      "image/png": "[encoded data removed]",
      "text/plain": [
       "<Figure size 900x600 with 1 Axes>"
      ]
     },
     "metadata": {},
     "output_type": "display_data"
    }
   ],
   "source": [
    "np.random.seed(0)\n",
    "\n",
    "# we are only abel to observe 1000 sample\n",
    "observation = population[np.random.randint(0, SAMPLE_SIZE, 1000)]\n",
    "\n",
    "plt.figure(figsize=(9, 6))\n",
    "sns.histplot(observation, color=\"k\", bins=20)\n",
    "plt.ylabel(\"Frequency\")\n",
    "\n",
    "mu_obs = np.mean(observation)\n",
    "mu_obs"
   ]
  },
  {
   "cell_type": "markdown",
   "id": "7810bc10-c326-4262-8780-02aa175ef132",
   "metadata": {},
   "source": [
    "## Now we want to generate more sample using those 1000 observation\n",
    "We know the mean of 1000 sample. But we don't know the variance.\n",
    "So we have to find the variance to 1000 sample by M-H algorithm using bayesian statics.\n",
    "\n",
    "$$ P\\left( \\theta| D \\right) = \\dfrac{P\\left( {D}|{\\theta} \\right) P(\\theta)}{P(D)}. $$\n",
    "\n",
    "where,\n",
    " - $P(\\theta|D)$ is the posterior. What we wish to compute.\n",
    " - $P(D|\\theta)$ is the **likelihood**. Assuming $D$ occurred, how likely is $\\theta$.\n",
    " - $P(\\theta)$ is the **prior**. How likely the event $\\theta$ is regardless of evidence.\n",
    " - $P(D)$ is the *evidence*.\n",
    "\n",
    "Here, its looks like 1000 sample follows Normal Distribution whose mean is $\\mu_{obs}$. We have to find variance of the desiar normal distribution. i.e. $P(\\theta|D)$ where, $\\theta := (\\mu_{obs}, \\sigma)$. \n",
    "\n",
    "### PDF of $P(D|\\theta)$:\n",
    "$$ \n",
    "    P(d_i|\\theta) = f(d_i|\\mu, \\sigma) = \\dfrac{1}{\\sqrt{2\\pi \\sigma^2}}e^{-\\dfrac{(d_i-\\mu)^2}{2\\sigma^2}} .\n",
    "$$\n",
    "where, $\\mu = \\mu_{obs}$.\n",
    "\n",
    "### Transition probability:\n",
    "we choose $Q$ to be,\n",
    "$$ \n",
    "    Q(\\sigma_{new}|\\sigma_{current}) = N(\\sigma_{current}, 0.5)\n",
    "$$ \n",
    "\n",
    "### Define when we accept or reject $\\sigma_{new}$: \n",
    "We accept $\\sigma_{new}$ if:\n",
    "\n",
    "$\\dfrac{Likelihood(D/\\mu_{obs},\\sigma_{new})*prior(\\mu_{obs},\\sigma_{new})}{Likelihood(D/\\mu_{obs},\\sigma_{current})*prior(\\mu_{obs},\\sigma_{current})}>1     \\quad \\quad \\quad \\quad \\quad      (1)$\n",
    "\n",
    "If this ratio is smaller or equal to 1, then we compare it to a uniformly generated random number in the closed set [0,1]. If the ratio is larger than the random number, we accept $\\sigma_{new}$, otherwise we reject it.\n",
    "\n",
    "*Note: Since we will be computing this ratio to decide which parameters should be accepted, it is imperative to make sure that the adopted function $f$  is proportional to the posterior itself, $P(\\sigma/ D,\\mu)$, which in that case is verified. ($f$ is the PDF of P)*\n",
    "\n",
    "### For the Prior $P(\\theta)$ which we can alternatively note $P(\\sigma)$ since $\\mu$ is constant:\n",
    "We don't have any preferences for the values that $\\sigma_{new}$ and $\\sigma_{current}$ can take. The only thing worth noting is that they should be positive. Why? Intuitively, the standard deviation measures dispersion. Dispersion is a distance, and distances cannot be negative. Mathematically, $\\sigma=\\sqrt{\\dfrac{1}{n}\\sum_i^n(d_i-\\mu)^2}$, and the square root of a number cannot be negative. We strictly enforce this in the prior.\n",
    "\n",
    "Hence we choose the pdf of $P(\\sigma)$ to be:\n",
    "$$\n",
    "    P(\\sigma) = \\begin{cases}\n",
    "        0,\\ \\  \\sigma \\le 0\\\\\n",
    "        1,\\ \\ \\sigma > 0\n",
    "    \\end{cases}\n",
    "$$\n",
    "\n",
    "### For Likelihood function:\n",
    "The total likelihood for a set of observation $D$ is: $Likelihood(D|\\mu_{obs},\\sigma_{a}) = \\prod_i^n f(d_i|\\mu_{obs},\\sigma_{a}) $, where $a=new \\: or \\: current$.\n",
    "\n",
    "In our case, we will log both the prior and the likelihood function. Why log? Simply because it helps with numerical stability, i.e. multiplying thousands of small values (probabilities, likelihoods, etc..) can cause an underflow in the system's memory, and the log is a perfect solution because it transforms multiplications to additions and small positive numbers into non-small negative numbers.\n",
    "\n",
    "Now we accept $\\sigma_{new}$ if: (from (1))\n",
    "\n",
    "$$\n",
    "    \\log(Likelihood(D|\\mu_{obs},\\sigma_{new})) + \\log(prior(\\mu_{obs},\\sigma_{new})) - (\\log(Likelihood(D|\\mu_{obs},\\sigma_{current}))- \\log(prior(\\mu_{obs},\\sigma_{current})))>0\n",
    "$$\n",
    "\n",
    "$$\n",
    "    \\sum_i^n\\log(f(d_i|\\mu_{obs},\\sigma_{new})) + \\log(prior(\\mu_{obs},\\sigma_{new})) > \\sum_i^n\\log(f(d_i|\\mu_{obs},\\sigma_{current}))+\\log(prior(\\mu_{obs},\\sigma_{current}))\n",
    "$$\n",
    "\n",
    "$$\n",
    "    \\sum_i^n \\left( - \\log( \\sigma_{new} \\sqrt{2 \\pi} ) - \\frac{(d_i-\\mu)^2}{2\\sigma_{new}^2} \\right) + \\log(prior(\\mu_{obs}, \\sigma_{new})) > \\sum_i^n \\left( - \\log( \\sigma_{current} \\sqrt{2 \\pi} ) - \\frac{(d_i-\\mu)^2}{2\\sigma_{current}^2} \\right) + \\log(prior(\\mu_{obs}, \\sigma_{current}))\n",
    "$$"
   ]
  },
  {
   "cell_type": "code",
   "execution_count": 5,
   "id": "3ea1b868-bec0-4d64-a353-201230979078",
   "metadata": {},
   "outputs": [],
   "source": [
    "def prior(current_state):\n",
    "    if current_state <= 0:\n",
    "        return 0\n",
    "    else:\n",
    "        return 1\n",
    "\n",
    "\n",
    "def log_like_normal(mu, sigma, data):\n",
    "    return np.sum(\n",
    "        -np.log(sigma * np.sqrt(2 * np.pi)) - ((data - mu) ** 2) / (2 * sigma**2)\n",
    "    )\n",
    "\n",
    "\n",
    "def acceptance(current, new):\n",
    "    if new > current:\n",
    "        return True\n",
    "    else:\n",
    "        accept = np.random.uniform(0, 1)\n",
    "        # since we are dealing with log of likelihood function so we have to take exp.\n",
    "        return accept < (np.exp(new - current))\n",
    "\n",
    "\n",
    "def Metropolis(\n",
    "    prior, log_like_normal, acceptance, mu, init_state, data, sample_size=SAMPLE_SIZE\n",
    "):\n",
    "    current_state = init_state\n",
    "    samples = []\n",
    "    for _ in range(sample_size):\n",
    "        candidate_state = np.random.normal(loc=current_state, scale=0.5, size=1)\n",
    "        current_likelihood = log_like_normal(mu, current_state, data)\n",
    "        candidate_likelihood = log_like_normal(mu, candidate_state, data)\n",
    "        if acceptance(\n",
    "            current_likelihood + np.log(prior(current_state)),\n",
    "            candidate_likelihood + np.log(prior(candidate_state)),\n",
    "        ):\n",
    "            current_state = candidate_state\n",
    "            samples.append(current_state)\n",
    "    return np.array(samples)"
   ]
  },
  {
   "cell_type": "code",
   "execution_count": 6,
   "id": "2c7e9f6d-f31a-4c04-96ed-1ce95d143488",
   "metadata": {},
   "outputs": [],
   "source": [
    "np.random.seed(1)\n",
    "\n",
    "samples_of_sigma = Metropolis(\n",
    "    prior, log_like_normal, acceptance, mu_obs, 0.1, population\n",
    ")"
   ]
  },
  {
   "cell_type": "markdown",
   "id": "daeaa820",
   "metadata": {},
   "source": [
    "#### Last 10 samples and shape od samples\n",
    "Here only around 1670 number of sample get accepcted (can be changeg)."
   ]
  },
  {
   "cell_type": "code",
   "execution_count": 7,
   "id": "0e01cd85-e162-4321-a6ef-00766f3bdcc2",
   "metadata": {},
   "outputs": [
    {
     "name": "stdout",
     "output_type": "stream",
     "text": [
      "(1744, 1)\n",
      "[[3.02024603]\n",
      " [3.01216958]\n",
      " [3.01030528]\n",
      " [3.00978686]\n",
      " [3.01468985]\n",
      " [3.01429899]\n",
      " [3.0022296 ]\n",
      " [3.00654908]\n",
      " [3.01028061]\n",
      " [3.00904288]]\n"
     ]
    }
   ],
   "source": [
    "print(samples_of_sigma.shape)\n",
    "print(samples_of_sigma[-10:])"
   ]
  },
  {
   "cell_type": "markdown",
   "id": "e03c2379-220c-4c38-b03e-2f7225a15235",
   "metadata": {},
   "source": [
    "### We consider the inetial 25% of values to \"burn-in\", so we drop them."
   ]
  },
  {
   "cell_type": "code",
   "execution_count": 40,
   "id": "68498542-abcf-4d33-98e9-19f7628d4397",
   "metadata": {},
   "outputs": [
    {
     "data": {
      "text/plain": [
       "(array([ 1.58080225,  1.2646418 ,  1.2646418 ,  6.00704854, 15.17570156,\n",
       "        20.86658965, 30.66756358, 44.57862334, 49.95335098, 49.00486963,\n",
       "        44.89478379, 44.57862334, 32.88068672, 25.60899639, 21.49891055,\n",
       "        13.59489932,  6.32320898,  2.84544404,  0.6323209 ,  0.31616045]),\n",
       " array([2.98779552, 2.99021368, 2.99263184, 2.99504999, 2.99746815,\n",
       "        2.99988631, 3.00230447, 3.00472263, 3.00714079, 3.00955894,\n",
       "        3.0119771 , 3.01439526, 3.01681342, 3.01923158, 3.02164973,\n",
       "        3.02406789, 3.02648605, 3.02890421, 3.03132237, 3.03374053,\n",
       "        3.03615868]),\n",
       " <BarContainer object of 20 artists>)"
      ]
     },
     "execution_count": 40,
     "metadata": {},
     "output_type": "execute_result"
    },
    {
     "data": {
      "image/png": "[encoded data removed]",
      "text/plain": [
       "<Figure size 900x600 with 1 Axes>"
      ]
     },
     "metadata": {},
     "output_type": "display_data"
    }
   ],
   "source": [
    "hist_show = int(-0.75 * samples_of_sigma.shape[0])\n",
    "\n",
    "plt.figure(figsize=(9, 6))\n",
    "plt.hist(\n",
    "    samples_of_sigma[hist_show:],\n",
    "    color=\"#3a3b3a\",\n",
    "    edgecolor=\"black\",\n",
    "    density=True,\n",
    "    bins=20,\n",
    ")"
   ]
  },
  {
   "cell_type": "code",
   "execution_count": 9,
   "id": "e53a077c-c0ee-4b8d-b05e-3ce7f8af761b",
   "metadata": {},
   "outputs": [
    {
     "name": "stdout",
     "output_type": "stream",
     "text": [
      "Mean of sigmas: 3.008385149163286\n"
     ]
    }
   ],
   "source": [
    "sigam_obs = samples_of_sigma.mean()\n",
    "print(f\"Mean of sigmas: {sigam_obs}\")"
   ]
  },
  {
   "cell_type": "markdown",
   "id": "dccf7849",
   "metadata": {},
   "source": [
    "Now we get the variance of sample is $\\sigma_{obs}$.\n",
    "\n",
    "Now, we can generate the the random samples from $N(\\mu_{obs}, \\sigma_{obs})$ and it will be pretty closed to the original population.\n",
    "\n",
    "## Predction:"
   ]
  },
  {
   "cell_type": "code",
   "execution_count": 32,
   "id": "b006c3ea",
   "metadata": {},
   "outputs": [
    {
     "name": "stdout",
     "output_type": "stream",
     "text": [
      "experimental Mean: 10.075376024447806, Variance: 3.008385149163286\n"
     ]
    },
    {
     "data": {
      "text/plain": [
       "<matplotlib.legend.Legend at 0x7f52a04f8cd0>"
      ]
     },
     "execution_count": 32,
     "metadata": {},
     "output_type": "execute_result"
    },
    {
     "data": {
      "image/png": "[encoded data removed]",
      "text/plain": [
       "<Figure size 1500x600 with 2 Axes>"
      ]
     },
     "metadata": {},
     "output_type": "display_data"
    }
   ],
   "source": [
    "np.random.seed(3)\n",
    "\n",
    "print(f\"experimental Mean: {mu_obs}, Variance: {sigam_obs}\")\n",
    "experemental_population = np.random.normal(mu_obs, sigam_obs, SAMPLE_SIZE)\n",
    "\n",
    "plt.figure(figsize=(15, 6))\n",
    "plt.subplot(1, 2, 1)\n",
    "sns.histplot(\n",
    "    experemental_population,\n",
    "    color=\"black\",\n",
    "    bins=70,\n",
    "    stat=\"density\",\n",
    "    label=\"Predicted\",\n",
    ")\n",
    "plt.legend()\n",
    "plt.subplot(1, 2, 2)\n",
    "sns.histplot(population, color=\"black\", bins=70, stat=\"density\", label=\"Original\")\n",
    "plt.legend()"
   ]
  },
  {
   "cell_type": "markdown",
   "id": "d347d527-3267-420c-8870-c4022861c3c0",
   "metadata": {},
   "source": [
    "## may be deleted"
   ]
  },
  {
   "cell_type": "code",
   "execution_count": 18,
   "id": "99288a19-fa38-4f80-9e2e-ed7ae3a71528",
   "metadata": {},
   "outputs": [
    {
     "name": "stdout",
     "output_type": "stream",
     "text": [
      "5.388470268408775, 7.11399274041427e-08\n"
     ]
    }
   ],
   "source": [
    "t_stat, p_value = stats.ttest_ind(experemental_population, population)\n",
    "print(f\"{t_stat}, {p_value}\")"
   ]
  },
  {
   "cell_type": "markdown",
   "id": "e4e3178e-26b2-4860-8b60-3f4d6fdf79e2",
   "metadata": {},
   "source": [
    "## Z-test\n",
    "\n",
    "$$\n",
    "    \\text{z-score} = \\frac{(\\bar{X_1} - \\bar{X_2}) - (\\mu_1 - \\mu_2)}{\\sqrt{\\frac{\\sigma_1^2}{n_1} + \\frac{\\sigma_2^2}{n_2} }} \n",
    "$$\n",
    "\n",
    "Where, $\\bar{X_i}$ are sample mean, $\\mu_i$ are mean of the sample, $\\sigma_i$ are sample standrad deviation.\n",
    "\n",
    "The $H_0$:null hypothesis is $(\\mu_1 - \\mu_2) = 0$."
   ]
  },
  {
   "cell_type": "code",
   "execution_count": 42,
   "id": "56d31d8f-ba69-4121-9776-a981f596ed3b",
   "metadata": {},
   "outputs": [
    {
     "name": "stdout",
     "output_type": "stream",
     "text": [
      "10.068445440083817 2.9984750737539025\n",
      "9.996042376230328 3.010541533555974\n",
      "0.12049046060279477\n",
      "1.0959053640713512\n"
     ]
    }
   ],
   "source": [
    "print(experemental_population.mean(), experemental_population.std())\n",
    "print(population.mean(), population.std())\n",
    "\n",
    "X1_bar = experemental_population.mean()\n",
    "X2_bar = population.mean()\n",
    "sigma1 = experemental_population.std()\n",
    "sigma2 = population.std()\n",
    "\n",
    "alpha = 0.05\n",
    "\n",
    "z_score = (X1_bar - X2_bar) / (\n",
    "    np.sqrt(sigma1**2 / SAMPLE_SIZE + sigma2**2 / SAMPLE_SIZE)\n",
    ")\n",
    "print(z_score)\n",
    "\n",
    "p_value = 2 * stats.norm.cdf(np.abs(z_score))\n",
    "print(p_value)"
   ]
  }
 ],
 "metadata": {
  "kernelspec": {
   "display_name": "Python 3 (ipykernel)",
   "language": "python",
   "name": "python3"
  },
  "language_info": {
   "codemirror_mode": {
    "name": "ipython",
    "version": 3
   },
   "file_extension": ".py",
   "mimetype": "text/x-python",
   "name": "python",
   "nbconvert_exporter": "python",
   "pygments_lexer": "ipython3",
   "version": "3.10.12"
  }
 },
 "nbformat": 4,
 "nbformat_minor": 5
}
